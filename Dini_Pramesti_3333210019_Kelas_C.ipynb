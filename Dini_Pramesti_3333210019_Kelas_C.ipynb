{
  "cells": [
    {
      "cell_type": "markdown",
      "source": [
        "## 1. Data Preprocessing"
      ],
      "metadata": {
        "id": "TFN6Of7TWe57"
      }
    },
    {
      "cell_type": "markdown",
      "source": [
        "## Overview\n",
        "\n",
        "Practice for Data Analytic Class in Merdeka Belajar \n",
        "\n",
        "## Objecive\n",
        "\n",
        "• Retrieving data \n",
        "\n",
        "• Cleansing, integrating\n",
        "dan transforming data\n",
        "\n",
        "• Data Preparation\n",
        "\n",
        "• Exploratory Data\n",
        "Analysis\n",
        "\n",
        "• Data Visualization\n"
      ],
      "metadata": {
        "id": "cvS878SumIw0"
      }
    },
    {
      "cell_type": "markdown",
      "source": [
        "**About Dataset**\n",
        "\n",
        "Consists of names, locations and height (in meters and feet) for various mountains around the world.\n",
        "\n",
        "This is intended as a static (unchanging) snapshot of https://www.kaggle.com/datasets/codefantasy/list-of-mountains-in-the-world. It was created in 2022. \n",
        "\n",
        "Dataset description & download https://www.kaggle.com/datasets/codefantasy/list-of-mountains-in-the-world."
      ],
      "metadata": {
        "id": "0EcHLMXgZr5f"
      }
    },
    {
      "cell_type": "markdown",
      "source": [
        "**1.1 Importing Library**"
      ],
      "metadata": {
        "id": "IADUBKDnWr3s"
      }
    },
    {
      "cell_type": "markdown",
      "source": [
        "**To Import the Library, then use the following packages syntax**"
      ],
      "metadata": {
        "id": "oUGI-eDpXmK6"
      }
    },
    {
      "cell_type": "code",
      "execution_count": 62,
      "metadata": {
        "id": "CvNhhTZtGoGV"
      },
      "outputs": [],
      "source": [
        "import pandas as pd\n",
        "import numpy as np\n",
        "import matplotlib.pyplot as plt\n",
        "from sklearn.preprocessing import LabelEncoder\n",
        "\n",
        "from sklearn.model_selection import train_test_split\n",
        "from sklearn.model_selection import cross_val_score\n",
        "from sklearn.model_selection import KFold\n",
        "from sklearn.metrics import accuracy_score"
      ]
    },
    {
      "cell_type": "markdown",
      "source": [
        "**1.2 Importing Dataset**"
      ],
      "metadata": {
        "id": "Ydt444CDW46r"
      }
    },
    {
      "cell_type": "markdown",
      "source": [
        "**To Import the Dataset, then upload it to a file then enter the csv file. and use the following syntax to import the uploaded dataset**"
      ],
      "metadata": {
        "id": "eKaEBIIJX24y"
      }
    },
    {
      "cell_type": "code",
      "source": [
        "import pandas as pd\n",
        "dataset = pd.read_csv('Mountain.csv')\n",
        "dataset"
      ],
      "metadata": {
        "colab": {
          "base_uri": "https://localhost:8080/",
          "height": 423
        },
        "id": "N0fME_84YBzx",
        "outputId": "a45ede13-8a80-4096-f463-17bf114b6481"
      },
      "execution_count": 63,
      "outputs": [
        {
          "output_type": "execute_result",
          "data": {
            "text/plain": [
              "                 Mountain   Metres   Feet        Range  \\\n",
              "0           Mount Everest  8848.00  29029  Himalayas     \n",
              "1                      K2  8612.00  28255  Karakoram     \n",
              "2           Kangchenjunga  8586.00  28169  Himalayas     \n",
              "3                  Lhotse  8516.00  27940  Himalayas     \n",
              "4                  Makalu  8485.00  27838  Himalayas     \n",
              "...                   ...      ...    ...          ...   \n",
              "1640       Mount Pleasant     5.00     16                \n",
              "1641          Mount Tenpō     4.53     15                \n",
              "1642   Tianzhong Mountain     3.60     12                \n",
              "1643       Mount Hiroyama     3.00     10                \n",
              "1644  Jing Mountain [yue]     0.60      2                \n",
              "\n",
              "                                               Location  \n",
              "0                                           Nepal/China  \n",
              "1                                        Pakistan/China  \n",
              "2                                           Nepal/India  \n",
              "3     Nepal – Climbers ascend Lhotse Face in climbin...  \n",
              "4                                                 Nepal  \n",
              "...                                                 ...  \n",
              "1640             Texas, US – Shortest Mountain in Texas  \n",
              "1641                                       Osaka, Japan  \n",
              "1642                              Henan Province, China  \n",
              "1643         Sendai, Japan – Shortest Mountain in Japan  \n",
              "1644  Shandong Province, China – Shortest Mountain i...  \n",
              "\n",
              "[1645 rows x 5 columns]"
            ],
            "text/html": [
              "\n",
              "  <div id=\"df-06c7b753-47e8-412f-8ca5-eefce92fb1bc\">\n",
              "    <div class=\"colab-df-container\">\n",
              "      <div>\n",
              "<style scoped>\n",
              "    .dataframe tbody tr th:only-of-type {\n",
              "        vertical-align: middle;\n",
              "    }\n",
              "\n",
              "    .dataframe tbody tr th {\n",
              "        vertical-align: top;\n",
              "    }\n",
              "\n",
              "    .dataframe thead th {\n",
              "        text-align: right;\n",
              "    }\n",
              "</style>\n",
              "<table border=\"1\" class=\"dataframe\">\n",
              "  <thead>\n",
              "    <tr style=\"text-align: right;\">\n",
              "      <th></th>\n",
              "      <th>Mountain</th>\n",
              "      <th>Metres</th>\n",
              "      <th>Feet</th>\n",
              "      <th>Range</th>\n",
              "      <th>Location</th>\n",
              "    </tr>\n",
              "  </thead>\n",
              "  <tbody>\n",
              "    <tr>\n",
              "      <th>0</th>\n",
              "      <td>Mount Everest</td>\n",
              "      <td>8848.00</td>\n",
              "      <td>29029</td>\n",
              "      <td>Himalayas</td>\n",
              "      <td>Nepal/China</td>\n",
              "    </tr>\n",
              "    <tr>\n",
              "      <th>1</th>\n",
              "      <td>K2</td>\n",
              "      <td>8612.00</td>\n",
              "      <td>28255</td>\n",
              "      <td>Karakoram</td>\n",
              "      <td>Pakistan/China</td>\n",
              "    </tr>\n",
              "    <tr>\n",
              "      <th>2</th>\n",
              "      <td>Kangchenjunga</td>\n",
              "      <td>8586.00</td>\n",
              "      <td>28169</td>\n",
              "      <td>Himalayas</td>\n",
              "      <td>Nepal/India</td>\n",
              "    </tr>\n",
              "    <tr>\n",
              "      <th>3</th>\n",
              "      <td>Lhotse</td>\n",
              "      <td>8516.00</td>\n",
              "      <td>27940</td>\n",
              "      <td>Himalayas</td>\n",
              "      <td>Nepal – Climbers ascend Lhotse Face in climbin...</td>\n",
              "    </tr>\n",
              "    <tr>\n",
              "      <th>4</th>\n",
              "      <td>Makalu</td>\n",
              "      <td>8485.00</td>\n",
              "      <td>27838</td>\n",
              "      <td>Himalayas</td>\n",
              "      <td>Nepal</td>\n",
              "    </tr>\n",
              "    <tr>\n",
              "      <th>...</th>\n",
              "      <td>...</td>\n",
              "      <td>...</td>\n",
              "      <td>...</td>\n",
              "      <td>...</td>\n",
              "      <td>...</td>\n",
              "    </tr>\n",
              "    <tr>\n",
              "      <th>1640</th>\n",
              "      <td>Mount Pleasant</td>\n",
              "      <td>5.00</td>\n",
              "      <td>16</td>\n",
              "      <td></td>\n",
              "      <td>Texas, US – Shortest Mountain in Texas</td>\n",
              "    </tr>\n",
              "    <tr>\n",
              "      <th>1641</th>\n",
              "      <td>Mount Tenpō</td>\n",
              "      <td>4.53</td>\n",
              "      <td>15</td>\n",
              "      <td></td>\n",
              "      <td>Osaka, Japan</td>\n",
              "    </tr>\n",
              "    <tr>\n",
              "      <th>1642</th>\n",
              "      <td>Tianzhong Mountain</td>\n",
              "      <td>3.60</td>\n",
              "      <td>12</td>\n",
              "      <td></td>\n",
              "      <td>Henan Province, China</td>\n",
              "    </tr>\n",
              "    <tr>\n",
              "      <th>1643</th>\n",
              "      <td>Mount Hiroyama</td>\n",
              "      <td>3.00</td>\n",
              "      <td>10</td>\n",
              "      <td></td>\n",
              "      <td>Sendai, Japan – Shortest Mountain in Japan</td>\n",
              "    </tr>\n",
              "    <tr>\n",
              "      <th>1644</th>\n",
              "      <td>Jing Mountain [yue]</td>\n",
              "      <td>0.60</td>\n",
              "      <td>2</td>\n",
              "      <td></td>\n",
              "      <td>Shandong Province, China – Shortest Mountain i...</td>\n",
              "    </tr>\n",
              "  </tbody>\n",
              "</table>\n",
              "<p>1645 rows × 5 columns</p>\n",
              "</div>\n",
              "      <button class=\"colab-df-convert\" onclick=\"convertToInteractive('df-06c7b753-47e8-412f-8ca5-eefce92fb1bc')\"\n",
              "              title=\"Convert this dataframe to an interactive table.\"\n",
              "              style=\"display:none;\">\n",
              "        \n",
              "  <svg xmlns=\"http://www.w3.org/2000/svg\" height=\"24px\"viewBox=\"0 0 24 24\"\n",
              "       width=\"24px\">\n",
              "    <path d=\"M0 0h24v24H0V0z\" fill=\"none\"/>\n",
              "    <path d=\"M18.56 5.44l.94 2.06.94-2.06 2.06-.94-2.06-.94-.94-2.06-.94 2.06-2.06.94zm-11 1L8.5 8.5l.94-2.06 2.06-.94-2.06-.94L8.5 2.5l-.94 2.06-2.06.94zm10 10l.94 2.06.94-2.06 2.06-.94-2.06-.94-.94-2.06-.94 2.06-2.06.94z\"/><path d=\"M17.41 7.96l-1.37-1.37c-.4-.4-.92-.59-1.43-.59-.52 0-1.04.2-1.43.59L10.3 9.45l-7.72 7.72c-.78.78-.78 2.05 0 2.83L4 21.41c.39.39.9.59 1.41.59.51 0 1.02-.2 1.41-.59l7.78-7.78 2.81-2.81c.8-.78.8-2.07 0-2.86zM5.41 20L4 18.59l7.72-7.72 1.47 1.35L5.41 20z\"/>\n",
              "  </svg>\n",
              "      </button>\n",
              "      \n",
              "  <style>\n",
              "    .colab-df-container {\n",
              "      display:flex;\n",
              "      flex-wrap:wrap;\n",
              "      gap: 12px;\n",
              "    }\n",
              "\n",
              "    .colab-df-convert {\n",
              "      background-color: #E8F0FE;\n",
              "      border: none;\n",
              "      border-radius: 50%;\n",
              "      cursor: pointer;\n",
              "      display: none;\n",
              "      fill: #1967D2;\n",
              "      height: 32px;\n",
              "      padding: 0 0 0 0;\n",
              "      width: 32px;\n",
              "    }\n",
              "\n",
              "    .colab-df-convert:hover {\n",
              "      background-color: #E2EBFA;\n",
              "      box-shadow: 0px 1px 2px rgba(60, 64, 67, 0.3), 0px 1px 3px 1px rgba(60, 64, 67, 0.15);\n",
              "      fill: #174EA6;\n",
              "    }\n",
              "\n",
              "    [theme=dark] .colab-df-convert {\n",
              "      background-color: #3B4455;\n",
              "      fill: #D2E3FC;\n",
              "    }\n",
              "\n",
              "    [theme=dark] .colab-df-convert:hover {\n",
              "      background-color: #434B5C;\n",
              "      box-shadow: 0px 1px 3px 1px rgba(0, 0, 0, 0.15);\n",
              "      filter: drop-shadow(0px 1px 2px rgba(0, 0, 0, 0.3));\n",
              "      fill: #FFFFFF;\n",
              "    }\n",
              "  </style>\n",
              "\n",
              "      <script>\n",
              "        const buttonEl =\n",
              "          document.querySelector('#df-06c7b753-47e8-412f-8ca5-eefce92fb1bc button.colab-df-convert');\n",
              "        buttonEl.style.display =\n",
              "          google.colab.kernel.accessAllowed ? 'block' : 'none';\n",
              "\n",
              "        async function convertToInteractive(key) {\n",
              "          const element = document.querySelector('#df-06c7b753-47e8-412f-8ca5-eefce92fb1bc');\n",
              "          const dataTable =\n",
              "            await google.colab.kernel.invokeFunction('convertToInteractive',\n",
              "                                                     [key], {});\n",
              "          if (!dataTable) return;\n",
              "\n",
              "          const docLinkHtml = 'Like what you see? Visit the ' +\n",
              "            '<a target=\"_blank\" href=https://colab.research.google.com/notebooks/data_table.ipynb>data table notebook</a>'\n",
              "            + ' to learn more about interactive tables.';\n",
              "          element.innerHTML = '';\n",
              "          dataTable['output_type'] = 'display_data';\n",
              "          await google.colab.output.renderOutput(dataTable, element);\n",
              "          const docLink = document.createElement('div');\n",
              "          docLink.innerHTML = docLinkHtml;\n",
              "          element.appendChild(docLink);\n",
              "        }\n",
              "      </script>\n",
              "    </div>\n",
              "  </div>\n",
              "  "
            ]
          },
          "metadata": {},
          "execution_count": 63
        }
      ]
    },
    {
      "cell_type": "markdown",
      "source": [
        "\n",
        "\n",
        "```\n",
        "`[# Ini diformat sebagai kode](https:// [teks link](https://))`\n",
        "```\n",
        "\n",
        "## 2. Exploratory Data"
      ],
      "metadata": {
        "id": "UDDwMkOVdAS-"
      }
    },
    {
      "cell_type": "markdown",
      "source": [
        "**dataset.shape is used to determine the number of rows and columns in the dataset. and the number of rows of datasets is 1645 and the number of columns is 5**"
      ],
      "metadata": {
        "id": "r4glrFzgX7Lb"
      }
    },
    {
      "cell_type": "code",
      "source": [
        "dataset.shape"
      ],
      "metadata": {
        "colab": {
          "base_uri": "https://localhost:8080/"
        },
        "id": "gfY3IjMzdDsN",
        "outputId": "57693c77-741c-4935-d3a6-db6617c0d297"
      },
      "execution_count": 64,
      "outputs": [
        {
          "output_type": "execute_result",
          "data": {
            "text/plain": [
              "(1645, 5)"
            ]
          },
          "metadata": {},
          "execution_count": 64
        }
      ]
    },
    {
      "cell_type": "markdown",
      "source": [
        "**dataset.columns is used to find out the name of the category in the column**"
      ],
      "metadata": {
        "id": "ojhKUbYJYPc9"
      }
    },
    {
      "cell_type": "code",
      "source": [
        "dataset.columns"
      ],
      "metadata": {
        "colab": {
          "base_uri": "https://localhost:8080/"
        },
        "id": "v2bT3bcCdad5",
        "outputId": "63fed57a-a5b5-47c4-e4f7-899f2c2d4a5c"
      },
      "execution_count": 65,
      "outputs": [
        {
          "output_type": "execute_result",
          "data": {
            "text/plain": [
              "Index(['Mountain', 'Metres', 'Feet', 'Range', 'Location'], dtype='object')"
            ]
          },
          "metadata": {},
          "execution_count": 65
        }
      ]
    },
    {
      "cell_type": "markdown",
      "source": [
        "**dataset.dtypes is used to display the data types in the dataset column. such as Mountain has an object data type, Metres has a float64 data type, Feet has an int64 data type, Range and location have an object data type.**"
      ],
      "metadata": {
        "id": "hx1eYp9uYmse"
      }
    },
    {
      "cell_type": "code",
      "source": [
        "dataset.dtypes"
      ],
      "metadata": {
        "colab": {
          "base_uri": "https://localhost:8080/"
        },
        "id": "DGucyPqGdstV",
        "outputId": "d54039f5-2916-4889-b5f3-1e6cc86b072e"
      },
      "execution_count": 66,
      "outputs": [
        {
          "output_type": "execute_result",
          "data": {
            "text/plain": [
              "Mountain     object\n",
              "Metres      float64\n",
              "Feet          int64\n",
              "Range        object\n",
              "Location     object\n",
              "dtype: object"
            ]
          },
          "metadata": {},
          "execution_count": 66
        }
      ]
    },
    {
      "cell_type": "markdown",
      "source": [
        "**Dataset.info is used to display the length of the data in the dataset column and its data type.**"
      ],
      "metadata": {
        "id": "_CufjFp0ZAF-"
      }
    },
    {
      "cell_type": "code",
      "source": [
        "dataset.info()"
      ],
      "metadata": {
        "colab": {
          "base_uri": "https://localhost:8080/"
        },
        "id": "R5lpoJMgdqdl",
        "outputId": "fd4cb19f-72d3-4e44-f66f-962744daa6d6"
      },
      "execution_count": 67,
      "outputs": [
        {
          "output_type": "stream",
          "name": "stdout",
          "text": [
            "<class 'pandas.core.frame.DataFrame'>\n",
            "RangeIndex: 1645 entries, 0 to 1644\n",
            "Data columns (total 5 columns):\n",
            " #   Column    Non-Null Count  Dtype  \n",
            "---  ------    --------------  -----  \n",
            " 0   Mountain  1645 non-null   object \n",
            " 1   Metres    1645 non-null   float64\n",
            " 2   Feet      1645 non-null   int64  \n",
            " 3   Range     498 non-null    object \n",
            " 4   Location  1530 non-null   object \n",
            "dtypes: float64(1), int64(1), object(3)\n",
            "memory usage: 64.4+ KB\n"
          ]
        }
      ]
    },
    {
      "cell_type": "markdown",
      "source": [
        "**dataset.nunique is used to get the number of unique values ​​in each dataset column.**"
      ],
      "metadata": {
        "id": "DP2Q9kmIZDUQ"
      }
    },
    {
      "cell_type": "code",
      "source": [
        "dataset.nunique()"
      ],
      "metadata": {
        "colab": {
          "base_uri": "https://localhost:8080/"
        },
        "id": "iAJrbGiuf-8c",
        "outputId": "520063ed-2313-4e68-e379-dcdf31b43eb8"
      },
      "execution_count": 68,
      "outputs": [
        {
          "output_type": "execute_result",
          "data": {
            "text/plain": [
              "Mountain    1621\n",
              "Metres      1448\n",
              "Feet        1447\n",
              "Range        111\n",
              "Location     777\n",
              "dtype: int64"
            ]
          },
          "metadata": {},
          "execution_count": 68
        }
      ]
    },
    {
      "cell_type": "markdown",
      "source": [
        "**2.1 Handling Missing Value**"
      ],
      "metadata": {
        "id": "SsvcPPw9ekvS"
      }
    },
    {
      "cell_type": "markdown",
      "source": [
        "Let's assume unknown value as missing value since unknown means not known or no values"
      ],
      "metadata": {
        "id": "tkkOl04Ee_xV"
      }
    },
    {
      "cell_type": "markdown",
      "source": [
        "**Datasets.isnull().sum() is used to get the number of missing (null) values ​​in each dataset column. it is known that the data range and location each have missing values, namely 1147 and 115**"
      ],
      "metadata": {
        "id": "D7A2iKJEZWdY"
      }
    },
    {
      "cell_type": "code",
      "source": [
        "dataset.isnull().sum()"
      ],
      "metadata": {
        "colab": {
          "base_uri": "https://localhost:8080/"
        },
        "id": "rsrJsSO8fW7M",
        "outputId": "c9939fb6-29c1-4be7-9f19-dd0639e5897d"
      },
      "execution_count": 69,
      "outputs": [
        {
          "output_type": "execute_result",
          "data": {
            "text/plain": [
              "Mountain       0\n",
              "Metres         0\n",
              "Feet           0\n",
              "Range       1147\n",
              "Location     115\n",
              "dtype: int64"
            ]
          },
          "metadata": {},
          "execution_count": 69
        }
      ]
    },
    {
      "cell_type": "markdown",
      "source": [
        "\n",
        "**To get data type from column 'Range' in dataset.**"
      ],
      "metadata": {
        "id": "s0l9gIURakNp"
      }
    },
    {
      "cell_type": "code",
      "source": [
        "dataset['Range'].dtypes"
      ],
      "metadata": {
        "colab": {
          "base_uri": "https://localhost:8080/"
        },
        "id": "hw2FxOlorXI8",
        "outputId": "7227ffa4-ae3c-4b5e-db52-7d4eac543d82"
      },
      "execution_count": 70,
      "outputs": [
        {
          "output_type": "execute_result",
          "data": {
            "text/plain": [
              "dtype('O')"
            ]
          },
          "metadata": {},
          "execution_count": 70
        }
      ]
    },
    {
      "cell_type": "markdown",
      "source": [
        "**To get data type from column 'Location' in dataset.**"
      ],
      "metadata": {
        "id": "eQPTZWMjaonn"
      }
    },
    {
      "cell_type": "code",
      "source": [
        "dataset['Location'].dtypes"
      ],
      "metadata": {
        "colab": {
          "base_uri": "https://localhost:8080/"
        },
        "id": "1ZQ3-sq0rg0J",
        "outputId": "9ee2020e-d4a3-4813-8f69-f1b999d0986b"
      },
      "execution_count": 71,
      "outputs": [
        {
          "output_type": "execute_result",
          "data": {
            "text/plain": [
              "dtype('O')"
            ]
          },
          "metadata": {},
          "execution_count": 71
        }
      ]
    },
    {
      "cell_type": "markdown",
      "source": [
        "Perform imputer to handle missing value in numerical data"
      ],
      "metadata": {
        "id": "v6QJEYLbpcpG"
      }
    },
    {
      "cell_type": "markdown",
      "source": [
        "**in this case because the missing value in the dataset is in the form of an object, it does not use this syntax.**"
      ],
      "metadata": {
        "id": "L7t6uA-Ga9wG"
      }
    },
    {
      "cell_type": "code",
      "source": [
        "from sklearn.impute import SimpleImputer\n",
        "imputer = SimpleImputer(missing_values= np.nan, strategy='mean')\n",
        "imputer"
      ],
      "metadata": {
        "id": "02J19YzBjpuO"
      },
      "execution_count": null,
      "outputs": []
    },
    {
      "cell_type": "code",
      "source": [
        "imputer = imputer.fit(dataset[['']])\n",
        "imputer"
      ],
      "metadata": {
        "id": "RatiEmtpsMxv"
      },
      "execution_count": null,
      "outputs": []
    },
    {
      "cell_type": "code",
      "source": [
        "dataset[['']] = imputer.transform(dataset[['']])\n",
        "dataset.isnull().sum()"
      ],
      "metadata": {
        "id": "VRRgnMy9s6t7"
      },
      "execution_count": null,
      "outputs": []
    },
    {
      "cell_type": "markdown",
      "source": [
        "**Using drop column tohandle missing value on categorical or object data**"
      ],
      "metadata": {
        "id": "akm-xmRdphDb"
      }
    },
    {
      "cell_type": "markdown",
      "source": [
        "**it can be seen that the missing value in the dataset has been lost.**"
      ],
      "metadata": {
        "id": "o2lRv-yrbHQA"
      }
    },
    {
      "cell_type": "code",
      "execution_count": 73,
      "metadata": {
        "colab": {
          "base_uri": "https://localhost:8080/"
        },
        "id": "APXYNKqq0J3k",
        "outputId": "aecafb00-eb22-4a64-a5eb-db91ad050f33"
      },
      "outputs": [
        {
          "output_type": "execute_result",
          "data": {
            "text/plain": [
              "Mountain    0\n",
              "Metres      0\n",
              "Feet        0\n",
              "dtype: int64"
            ]
          },
          "metadata": {},
          "execution_count": 73
        }
      ],
      "source": [
        "dataset = dataset.dropna(axis=1)\n",
        "dataset.isnull().sum()"
      ]
    },
    {
      "cell_type": "markdown",
      "source": [
        "drop datetime column since we don't need it, we will use it in the next lecure for forecasting time series data"
      ],
      "metadata": {
        "id": "hqbUmlrTqsed"
      }
    },
    {
      "cell_type": "markdown",
      "source": [
        "**dataset = dataset.drop is used to remove unnecessary or unnecessary columns.**"
      ],
      "metadata": {
        "id": "vSSnPJ_wcV4i"
      }
    },
    {
      "cell_type": "code",
      "source": [
        "dataset = dataset.drop('Mountain', axis=1)\n",
        "dataset"
      ],
      "metadata": {
        "colab": {
          "base_uri": "https://localhost:8080/",
          "height": 423
        },
        "id": "1xT6ljMtq4sU",
        "outputId": "fdec1050-9e10-4e90-c58e-da0866b3801a"
      },
      "execution_count": 14,
      "outputs": [
        {
          "output_type": "execute_result",
          "data": {
            "text/plain": [
              "       Metres   Feet\n",
              "0     8848.00  29029\n",
              "1     8612.00  28255\n",
              "2     8586.00  28169\n",
              "3     8516.00  27940\n",
              "4     8485.00  27838\n",
              "...       ...    ...\n",
              "1640     5.00     16\n",
              "1641     4.53     15\n",
              "1642     3.60     12\n",
              "1643     3.00     10\n",
              "1644     0.60      2\n",
              "\n",
              "[1645 rows x 2 columns]"
            ],
            "text/html": [
              "\n",
              "  <div id=\"df-99895cfc-1c0b-4364-852d-8ceece172e06\">\n",
              "    <div class=\"colab-df-container\">\n",
              "      <div>\n",
              "<style scoped>\n",
              "    .dataframe tbody tr th:only-of-type {\n",
              "        vertical-align: middle;\n",
              "    }\n",
              "\n",
              "    .dataframe tbody tr th {\n",
              "        vertical-align: top;\n",
              "    }\n",
              "\n",
              "    .dataframe thead th {\n",
              "        text-align: right;\n",
              "    }\n",
              "</style>\n",
              "<table border=\"1\" class=\"dataframe\">\n",
              "  <thead>\n",
              "    <tr style=\"text-align: right;\">\n",
              "      <th></th>\n",
              "      <th>Metres</th>\n",
              "      <th>Feet</th>\n",
              "    </tr>\n",
              "  </thead>\n",
              "  <tbody>\n",
              "    <tr>\n",
              "      <th>0</th>\n",
              "      <td>8848.00</td>\n",
              "      <td>29029</td>\n",
              "    </tr>\n",
              "    <tr>\n",
              "      <th>1</th>\n",
              "      <td>8612.00</td>\n",
              "      <td>28255</td>\n",
              "    </tr>\n",
              "    <tr>\n",
              "      <th>2</th>\n",
              "      <td>8586.00</td>\n",
              "      <td>28169</td>\n",
              "    </tr>\n",
              "    <tr>\n",
              "      <th>3</th>\n",
              "      <td>8516.00</td>\n",
              "      <td>27940</td>\n",
              "    </tr>\n",
              "    <tr>\n",
              "      <th>4</th>\n",
              "      <td>8485.00</td>\n",
              "      <td>27838</td>\n",
              "    </tr>\n",
              "    <tr>\n",
              "      <th>...</th>\n",
              "      <td>...</td>\n",
              "      <td>...</td>\n",
              "    </tr>\n",
              "    <tr>\n",
              "      <th>1640</th>\n",
              "      <td>5.00</td>\n",
              "      <td>16</td>\n",
              "    </tr>\n",
              "    <tr>\n",
              "      <th>1641</th>\n",
              "      <td>4.53</td>\n",
              "      <td>15</td>\n",
              "    </tr>\n",
              "    <tr>\n",
              "      <th>1642</th>\n",
              "      <td>3.60</td>\n",
              "      <td>12</td>\n",
              "    </tr>\n",
              "    <tr>\n",
              "      <th>1643</th>\n",
              "      <td>3.00</td>\n",
              "      <td>10</td>\n",
              "    </tr>\n",
              "    <tr>\n",
              "      <th>1644</th>\n",
              "      <td>0.60</td>\n",
              "      <td>2</td>\n",
              "    </tr>\n",
              "  </tbody>\n",
              "</table>\n",
              "<p>1645 rows × 2 columns</p>\n",
              "</div>\n",
              "      <button class=\"colab-df-convert\" onclick=\"convertToInteractive('df-99895cfc-1c0b-4364-852d-8ceece172e06')\"\n",
              "              title=\"Convert this dataframe to an interactive table.\"\n",
              "              style=\"display:none;\">\n",
              "        \n",
              "  <svg xmlns=\"http://www.w3.org/2000/svg\" height=\"24px\"viewBox=\"0 0 24 24\"\n",
              "       width=\"24px\">\n",
              "    <path d=\"M0 0h24v24H0V0z\" fill=\"none\"/>\n",
              "    <path d=\"M18.56 5.44l.94 2.06.94-2.06 2.06-.94-2.06-.94-.94-2.06-.94 2.06-2.06.94zm-11 1L8.5 8.5l.94-2.06 2.06-.94-2.06-.94L8.5 2.5l-.94 2.06-2.06.94zm10 10l.94 2.06.94-2.06 2.06-.94-2.06-.94-.94-2.06-.94 2.06-2.06.94z\"/><path d=\"M17.41 7.96l-1.37-1.37c-.4-.4-.92-.59-1.43-.59-.52 0-1.04.2-1.43.59L10.3 9.45l-7.72 7.72c-.78.78-.78 2.05 0 2.83L4 21.41c.39.39.9.59 1.41.59.51 0 1.02-.2 1.41-.59l7.78-7.78 2.81-2.81c.8-.78.8-2.07 0-2.86zM5.41 20L4 18.59l7.72-7.72 1.47 1.35L5.41 20z\"/>\n",
              "  </svg>\n",
              "      </button>\n",
              "      \n",
              "  <style>\n",
              "    .colab-df-container {\n",
              "      display:flex;\n",
              "      flex-wrap:wrap;\n",
              "      gap: 12px;\n",
              "    }\n",
              "\n",
              "    .colab-df-convert {\n",
              "      background-color: #E8F0FE;\n",
              "      border: none;\n",
              "      border-radius: 50%;\n",
              "      cursor: pointer;\n",
              "      display: none;\n",
              "      fill: #1967D2;\n",
              "      height: 32px;\n",
              "      padding: 0 0 0 0;\n",
              "      width: 32px;\n",
              "    }\n",
              "\n",
              "    .colab-df-convert:hover {\n",
              "      background-color: #E2EBFA;\n",
              "      box-shadow: 0px 1px 2px rgba(60, 64, 67, 0.3), 0px 1px 3px 1px rgba(60, 64, 67, 0.15);\n",
              "      fill: #174EA6;\n",
              "    }\n",
              "\n",
              "    [theme=dark] .colab-df-convert {\n",
              "      background-color: #3B4455;\n",
              "      fill: #D2E3FC;\n",
              "    }\n",
              "\n",
              "    [theme=dark] .colab-df-convert:hover {\n",
              "      background-color: #434B5C;\n",
              "      box-shadow: 0px 1px 3px 1px rgba(0, 0, 0, 0.15);\n",
              "      filter: drop-shadow(0px 1px 2px rgba(0, 0, 0, 0.3));\n",
              "      fill: #FFFFFF;\n",
              "    }\n",
              "  </style>\n",
              "\n",
              "      <script>\n",
              "        const buttonEl =\n",
              "          document.querySelector('#df-99895cfc-1c0b-4364-852d-8ceece172e06 button.colab-df-convert');\n",
              "        buttonEl.style.display =\n",
              "          google.colab.kernel.accessAllowed ? 'block' : 'none';\n",
              "\n",
              "        async function convertToInteractive(key) {\n",
              "          const element = document.querySelector('#df-99895cfc-1c0b-4364-852d-8ceece172e06');\n",
              "          const dataTable =\n",
              "            await google.colab.kernel.invokeFunction('convertToInteractive',\n",
              "                                                     [key], {});\n",
              "          if (!dataTable) return;\n",
              "\n",
              "          const docLinkHtml = 'Like what you see? Visit the ' +\n",
              "            '<a target=\"_blank\" href=https://colab.research.google.com/notebooks/data_table.ipynb>data table notebook</a>'\n",
              "            + ' to learn more about interactive tables.';\n",
              "          element.innerHTML = '';\n",
              "          dataTable['output_type'] = 'display_data';\n",
              "          await google.colab.output.renderOutput(dataTable, element);\n",
              "          const docLink = document.createElement('div');\n",
              "          docLink.innerHTML = docLinkHtml;\n",
              "          element.appendChild(docLink);\n",
              "        }\n",
              "      </script>\n",
              "    </div>\n",
              "  </div>\n",
              "  "
            ]
          },
          "metadata": {},
          "execution_count": 14
        }
      ]
    },
    {
      "cell_type": "markdown",
      "source": [
        "## 3. Data Visualization"
      ],
      "metadata": {
        "id": "ENPm1cm20MRH"
      }
    },
    {
      "cell_type": "markdown",
      "source": [
        "**Eploratory Data Analysis (EDA)**"
      ],
      "metadata": {
        "id": "Kmt5tnjKb_Th"
      }
    },
    {
      "cell_type": "markdown",
      "source": [
        "we will not use exploratory data analysis like in the previous class, we'll take another apporach to visualize data"
      ],
      "metadata": {
        "id": "_sXK6PePvNOv"
      }
    },
    {
      "cell_type": "markdown",
      "source": [
        "**3.1 Check Outliers**\n",
        "\n",
        "Outliers are values at the extreme ends of a dataset.\n",
        "\n",
        "Some outliers represent true values from natural variation in the population. Other outliers may result from incorrect data entry, equipment malfunctions, or other measurement errors.\n",
        "\n",
        "An outlier isn’t always a form of dirty or incorrect data, so you have to be careful with them in data cleansing. What you should do with an outlier depends on its most likely cause.\n",
        "\n",
        "for more info: https://www.scribbr.com/statistics/outliers/"
      ],
      "metadata": {
        "id": "FZB03O6btxDd"
      }
    },
    {
      "cell_type": "markdown",
      "source": [
        "**dataset.describe is used to view data numerically**"
      ],
      "metadata": {
        "id": "ChlfEc0XfVx1"
      }
    },
    {
      "cell_type": "code",
      "execution_count": 15,
      "metadata": {
        "colab": {
          "base_uri": "https://localhost:8080/",
          "height": 300
        },
        "id": "0V45x0tn28_2",
        "outputId": "c1fc9534-20f3-4912-f076-4976ce921614"
      },
      "outputs": [
        {
          "output_type": "execute_result",
          "data": {
            "text/plain": [
              "            Metres          Feet\n",
              "count  1645.000000   1645.000000\n",
              "mean   3570.258705  11713.444377\n",
              "std    1982.570769   6504.502838\n",
              "min       0.600000      2.000000\n",
              "25%    2133.000000   6998.000000\n",
              "50%    3356.000000  11010.000000\n",
              "75%    4442.000000  14573.000000\n",
              "max    8848.000000  29029.000000"
            ],
            "text/html": [
              "\n",
              "  <div id=\"df-f1ea2ec9-1364-45e4-8b40-32e1a485c0dd\">\n",
              "    <div class=\"colab-df-container\">\n",
              "      <div>\n",
              "<style scoped>\n",
              "    .dataframe tbody tr th:only-of-type {\n",
              "        vertical-align: middle;\n",
              "    }\n",
              "\n",
              "    .dataframe tbody tr th {\n",
              "        vertical-align: top;\n",
              "    }\n",
              "\n",
              "    .dataframe thead th {\n",
              "        text-align: right;\n",
              "    }\n",
              "</style>\n",
              "<table border=\"1\" class=\"dataframe\">\n",
              "  <thead>\n",
              "    <tr style=\"text-align: right;\">\n",
              "      <th></th>\n",
              "      <th>Metres</th>\n",
              "      <th>Feet</th>\n",
              "    </tr>\n",
              "  </thead>\n",
              "  <tbody>\n",
              "    <tr>\n",
              "      <th>count</th>\n",
              "      <td>1645.000000</td>\n",
              "      <td>1645.000000</td>\n",
              "    </tr>\n",
              "    <tr>\n",
              "      <th>mean</th>\n",
              "      <td>3570.258705</td>\n",
              "      <td>11713.444377</td>\n",
              "    </tr>\n",
              "    <tr>\n",
              "      <th>std</th>\n",
              "      <td>1982.570769</td>\n",
              "      <td>6504.502838</td>\n",
              "    </tr>\n",
              "    <tr>\n",
              "      <th>min</th>\n",
              "      <td>0.600000</td>\n",
              "      <td>2.000000</td>\n",
              "    </tr>\n",
              "    <tr>\n",
              "      <th>25%</th>\n",
              "      <td>2133.000000</td>\n",
              "      <td>6998.000000</td>\n",
              "    </tr>\n",
              "    <tr>\n",
              "      <th>50%</th>\n",
              "      <td>3356.000000</td>\n",
              "      <td>11010.000000</td>\n",
              "    </tr>\n",
              "    <tr>\n",
              "      <th>75%</th>\n",
              "      <td>4442.000000</td>\n",
              "      <td>14573.000000</td>\n",
              "    </tr>\n",
              "    <tr>\n",
              "      <th>max</th>\n",
              "      <td>8848.000000</td>\n",
              "      <td>29029.000000</td>\n",
              "    </tr>\n",
              "  </tbody>\n",
              "</table>\n",
              "</div>\n",
              "      <button class=\"colab-df-convert\" onclick=\"convertToInteractive('df-f1ea2ec9-1364-45e4-8b40-32e1a485c0dd')\"\n",
              "              title=\"Convert this dataframe to an interactive table.\"\n",
              "              style=\"display:none;\">\n",
              "        \n",
              "  <svg xmlns=\"http://www.w3.org/2000/svg\" height=\"24px\"viewBox=\"0 0 24 24\"\n",
              "       width=\"24px\">\n",
              "    <path d=\"M0 0h24v24H0V0z\" fill=\"none\"/>\n",
              "    <path d=\"M18.56 5.44l.94 2.06.94-2.06 2.06-.94-2.06-.94-.94-2.06-.94 2.06-2.06.94zm-11 1L8.5 8.5l.94-2.06 2.06-.94-2.06-.94L8.5 2.5l-.94 2.06-2.06.94zm10 10l.94 2.06.94-2.06 2.06-.94-2.06-.94-.94-2.06-.94 2.06-2.06.94z\"/><path d=\"M17.41 7.96l-1.37-1.37c-.4-.4-.92-.59-1.43-.59-.52 0-1.04.2-1.43.59L10.3 9.45l-7.72 7.72c-.78.78-.78 2.05 0 2.83L4 21.41c.39.39.9.59 1.41.59.51 0 1.02-.2 1.41-.59l7.78-7.78 2.81-2.81c.8-.78.8-2.07 0-2.86zM5.41 20L4 18.59l7.72-7.72 1.47 1.35L5.41 20z\"/>\n",
              "  </svg>\n",
              "      </button>\n",
              "      \n",
              "  <style>\n",
              "    .colab-df-container {\n",
              "      display:flex;\n",
              "      flex-wrap:wrap;\n",
              "      gap: 12px;\n",
              "    }\n",
              "\n",
              "    .colab-df-convert {\n",
              "      background-color: #E8F0FE;\n",
              "      border: none;\n",
              "      border-radius: 50%;\n",
              "      cursor: pointer;\n",
              "      display: none;\n",
              "      fill: #1967D2;\n",
              "      height: 32px;\n",
              "      padding: 0 0 0 0;\n",
              "      width: 32px;\n",
              "    }\n",
              "\n",
              "    .colab-df-convert:hover {\n",
              "      background-color: #E2EBFA;\n",
              "      box-shadow: 0px 1px 2px rgba(60, 64, 67, 0.3), 0px 1px 3px 1px rgba(60, 64, 67, 0.15);\n",
              "      fill: #174EA6;\n",
              "    }\n",
              "\n",
              "    [theme=dark] .colab-df-convert {\n",
              "      background-color: #3B4455;\n",
              "      fill: #D2E3FC;\n",
              "    }\n",
              "\n",
              "    [theme=dark] .colab-df-convert:hover {\n",
              "      background-color: #434B5C;\n",
              "      box-shadow: 0px 1px 3px 1px rgba(0, 0, 0, 0.15);\n",
              "      filter: drop-shadow(0px 1px 2px rgba(0, 0, 0, 0.3));\n",
              "      fill: #FFFFFF;\n",
              "    }\n",
              "  </style>\n",
              "\n",
              "      <script>\n",
              "        const buttonEl =\n",
              "          document.querySelector('#df-f1ea2ec9-1364-45e4-8b40-32e1a485c0dd button.colab-df-convert');\n",
              "        buttonEl.style.display =\n",
              "          google.colab.kernel.accessAllowed ? 'block' : 'none';\n",
              "\n",
              "        async function convertToInteractive(key) {\n",
              "          const element = document.querySelector('#df-f1ea2ec9-1364-45e4-8b40-32e1a485c0dd');\n",
              "          const dataTable =\n",
              "            await google.colab.kernel.invokeFunction('convertToInteractive',\n",
              "                                                     [key], {});\n",
              "          if (!dataTable) return;\n",
              "\n",
              "          const docLinkHtml = 'Like what you see? Visit the ' +\n",
              "            '<a target=\"_blank\" href=https://colab.research.google.com/notebooks/data_table.ipynb>data table notebook</a>'\n",
              "            + ' to learn more about interactive tables.';\n",
              "          element.innerHTML = '';\n",
              "          dataTable['output_type'] = 'display_data';\n",
              "          await google.colab.output.renderOutput(dataTable, element);\n",
              "          const docLink = document.createElement('div');\n",
              "          docLink.innerHTML = docLinkHtml;\n",
              "          element.appendChild(docLink);\n",
              "        }\n",
              "      </script>\n",
              "    </div>\n",
              "  </div>\n",
              "  "
            ]
          },
          "metadata": {},
          "execution_count": 15
        }
      ],
      "source": [
        "dataset.describe()"
      ]
    },
    {
      "cell_type": "markdown",
      "source": [
        "**mathplotlib is used to display data visualization using mathplotlib**"
      ],
      "metadata": {
        "id": "UAEOGeqggGO7"
      }
    },
    {
      "cell_type": "markdown",
      "source": [
        "**In the diagram it is known that there are quite far outliers, namely in the category of feet**"
      ],
      "metadata": {
        "id": "PpKEpSQ5gipL"
      }
    },
    {
      "cell_type": "code",
      "source": [
        "import matplotlib.pyplot as plt\n",
        "%matplotlib inline\n",
        "dataset.plot()"
      ],
      "metadata": {
        "colab": {
          "base_uri": "https://localhost:8080/",
          "height": 447
        },
        "id": "hVyPVG8wv4Rd",
        "outputId": "422d3457-1bcc-4dcc-83bf-fd32bb7522c6"
      },
      "execution_count": 16,
      "outputs": [
        {
          "output_type": "execute_result",
          "data": {
            "text/plain": [
              "<Axes: >"
            ]
          },
          "metadata": {},
          "execution_count": 16
        },
        {
          "output_type": "display_data",
          "data": {
            "text/plain": [
              "<Figure size 640x480 with 1 Axes>"
            ],
            "image/png": "[encoded data removed]"
          },
          "metadata": {}
        }
      ]
    },
    {
      "cell_type": "markdown",
      "source": [
        "**The syntax below is almost the same, which is used to see if there are outliers in the data in the form of a box plot.**"
      ],
      "metadata": {
        "id": "FgHBfUBmhL-h"
      }
    },
    {
      "cell_type": "code",
      "source": [
        "import seaborn as sns\n",
        "%matplotlib inline\n",
        "\n",
        "sns.set(rc={'figure.figsize':(11,8)}, font_scale=1.5, style='whitegrid')\n",
        "\n",
        "# tips = sns.load_dataset(dataset)\n",
        "sns.boxplot(data=dataset, orient=\"h\");"
      ],
      "metadata": {
        "colab": {
          "base_uri": "https://localhost:8080/",
          "height": 689
        },
        "id": "Sg0KQswrw-aG",
        "outputId": "711ab852-8527-4cf2-8571-e5bff924b1ba"
      },
      "execution_count": 17,
      "outputs": [
        {
          "output_type": "display_data",
          "data": {
            "text/plain": [
              "<Figure size 1100x800 with 1 Axes>"
            ],
            "image/png": "[encoded data removed]"
          },
          "metadata": {}
        }
      ]
    },
    {
      "cell_type": "markdown",
      "source": [
        "**we can be seen in the box plot feet above there are points that are far away compared to the other points, which means that there are outliers in the feet.**"
      ],
      "metadata": {
        "id": "p0TyGOn1hdM6"
      }
    },
    {
      "cell_type": "markdown",
      "source": [
        "**Scatter plots are used to display whether there are outliers but in the form of points/plots which are also called dot point.**"
      ],
      "metadata": {
        "id": "pZvvpbpejK0x"
      }
    },
    {
      "cell_type": "code",
      "source": [
        "# Scatter plot\n",
        "fig, ax = plt.subplots(figsize = (15,7))\n",
        "ax.scatter(dataset['Feet'], dataset['Metres'])\n",
        " \n",
        "# x-axis label\n",
        "ax.set_xlabel('Metres')\n",
        " \n",
        "# y-axis label\n",
        "ax.set_ylabel('Feet')\n",
        "plt.show()"
      ],
      "metadata": {
        "colab": {
          "base_uri": "https://localhost:8080/",
          "height": 572
        },
        "id": "QF-Yo7Mc1BJH",
        "outputId": "02870b38-ca29-4a79-a0fa-c4be2088a379"
      },
      "execution_count": 18,
      "outputs": [
        {
          "output_type": "display_data",
          "data": {
            "text/plain": [
              "<Figure size 1500x700 with 1 Axes>"
            ],
            "image/png": "[encoded data removed]"
          },
          "metadata": {}
        }
      ]
    },
    {
      "cell_type": "markdown",
      "source": [
        "**We can see in the diagram above that there are points that are quite far away, which means there are indeed outliers.**"
      ],
      "metadata": {
        "id": "gHunJKZJjS7G"
      }
    },
    {
      "cell_type": "markdown",
      "source": [
        "**Removing the outliers using IQR**\n",
        "\n",
        "**IQR (Inter Quartile Range)**\n",
        "\n",
        "IQR = Quartile3 – Quartile1\n",
        "\n",
        "Quartile description: https://rumusbilangan.com/rumus-kuartil/\n"
      ],
      "metadata": {
        "id": "QNqE47dr2hr4"
      }
    },
    {
      "cell_type": "markdown",
      "source": [
        "IQR is interpolation method to remove outliers\n",
        "\n",
        "To define the outlier base value is defined above and below datasets normal range namely Upper and Lower bounds, define the upper and the lower bound (1.5*IQR value is considered) :\n",
        "\n",
        "upper = Q3 +1.5*IQR\n",
        "\n",
        "lower = Q1 – 1.5*IQR\n",
        "\n",
        "how to calculate IQR:\n",
        "\n",
        "https://www.timesmojo.com/what-is-the-15-iqr-rule/\n",
        "\n",
        "https://www.geeksforgeeks.org/detect-and-remove-the-outliers-using-python/\n",
        "\n",
        "In the above formula as according to statistics, the 0.5 scale-up of IQR (new_IQR = IQR + 0.5*IQR) is taken, to consider all the data between 2.7 standard deviations in the Gaussian Distribution."
      ],
      "metadata": {
        "id": "5m0lhYyq3Xn7"
      }
    },
    {
      "cell_type": "markdown",
      "source": [
        "**data cleaning was carried out using IQR and it can be seen that the initial dataset size has been reduced to 2 and with a data length of 1645.**"
      ],
      "metadata": {
        "id": "wRNVZNbHjvII"
      }
    },
    {
      "cell_type": "code",
      "source": [
        "import sklearn\n",
        "\n",
        "# IQR Price\n",
        "Q1 = np.percentile(dataset['Feet'], 25,\n",
        "                   method = 'midpoint')\n",
        " \n",
        "Q3 = np.percentile(dataset['Feet'], 75,\n",
        "                   method = 'midpoint')\n",
        "IQR = Q3 - Q1\n",
        " \n",
        "print(\"Old Shape: \", dataset.shape)"
      ],
      "metadata": {
        "colab": {
          "base_uri": "https://localhost:8080/"
        },
        "id": "jL9XfyUY6L58",
        "outputId": "0c0d1a96-4010-49d2-d68c-6d29a9898a6a"
      },
      "execution_count": 19,
      "outputs": [
        {
          "output_type": "stream",
          "name": "stdout",
          "text": [
            "Old Shape:  (1645, 2)\n"
          ]
        }
      ]
    },
    {
      "cell_type": "markdown",
      "source": [
        "**Clean out the outliers using the syntax below. and the result is that the length of the data is 1627.**"
      ],
      "metadata": {
        "id": "Woj6mik2lXlV"
      }
    },
    {
      "cell_type": "code",
      "source": [
        "# Upper bound\n",
        "upper = Q3 + 1.5 * IQR\n",
        "\n",
        "# Lower bound\n",
        "lower = Q1 - 1.5 * IQR\n",
        "\n",
        "# Finding the indices of the outliers\n",
        "outliers_upper = dataset[dataset['Feet'] > upper].index\n",
        "outliers_lower = dataset[dataset['Feet'] < lower].index\n",
        "\n",
        "# Concatenate the indices of the outliers\n",
        "outliers = outliers_upper.append(outliers_lower)\n",
        "\n",
        "# Removing the outliers\n",
        "dataset.drop(outliers, inplace=True)\n",
        "\n",
        "print(\"New Shape: \", dataset.shape)\n"
      ],
      "metadata": {
        "colab": {
          "base_uri": "https://localhost:8080/"
        },
        "id": "WIZyhdHL6orp",
        "outputId": "987e09c6-f70b-4714-b8ca-8cb01a50cd3d"
      },
      "execution_count": 20,
      "outputs": [
        {
          "output_type": "stream",
          "name": "stdout",
          "text": [
            "New Shape:  (1627, 2)\n"
          ]
        }
      ]
    },
    {
      "cell_type": "markdown",
      "source": [
        "**data cleaning was carried out using IQR and it can be seen that the initial dataset size has been reduced to 2 and with a data length of 1627.**"
      ],
      "metadata": {
        "id": "aIDQJBkYlrzh"
      }
    },
    {
      "cell_type": "code",
      "source": [
        "import sklearn\n",
        "\n",
        "# IQR Landsize\n",
        "Q1 = np.percentile(dataset['Metres'], 25,\n",
        "                   method = 'midpoint')\n",
        " \n",
        "Q3 = np.percentile(dataset['Metres'], 75,\n",
        "                   method = 'midpoint')\n",
        "IQR = Q3 - Q1\n",
        " \n",
        "print(\"Old Shape: \", dataset.shape)"
      ],
      "metadata": {
        "colab": {
          "base_uri": "https://localhost:8080/"
        },
        "id": "NV-D28kj63xj",
        "outputId": "281c5a73-fac2-4822-a20a-634fdbd74709"
      },
      "execution_count": 21,
      "outputs": [
        {
          "output_type": "stream",
          "name": "stdout",
          "text": [
            "Old Shape:  (1627, 2)\n"
          ]
        }
      ]
    },
    {
      "cell_type": "markdown",
      "source": [
        "**Clean out the outliers using the syntax below. and the result is that the length of the data is 1615.**"
      ],
      "metadata": {
        "id": "iPqvtnaulzEH"
      }
    },
    {
      "cell_type": "code",
      "source": [
        "# Upper bound\n",
        "upper = Q3 + 1.5 * IQR\n",
        "\n",
        "# Lower bound\n",
        "lower = Q1 - 1.5 * IQR\n",
        "\n",
        "# Finding the indices of the outliers\n",
        "outliers_upper = dataset[dataset['Metres'] > upper].index\n",
        "outliers_lower = dataset[dataset['Metres'] < lower].index\n",
        "\n",
        "# Concatenate the indices of the outliers\n",
        "outliers = outliers_upper.append(outliers_lower)\n",
        "\n",
        "# Removing the outliers\n",
        "dataset.drop(outliers, inplace=True)\n",
        "\n",
        "print(\"New Shape: \", dataset.shape)\n"
      ],
      "metadata": {
        "colab": {
          "base_uri": "https://localhost:8080/"
        },
        "id": "raHbRnEQ66Ai",
        "outputId": "87510c8b-438f-4e99-d0ce-31e14916f826"
      },
      "execution_count": 22,
      "outputs": [
        {
          "output_type": "stream",
          "name": "stdout",
          "text": [
            "New Shape:  (1615, 2)\n"
          ]
        }
      ]
    },
    {
      "cell_type": "markdown",
      "source": [
        "**visualize again to make sure by using the box plot, and we can see that the data is clean of outliers.**"
      ],
      "metadata": {
        "id": "aziH7EKtmRw8"
      }
    },
    {
      "cell_type": "code",
      "execution_count": 23,
      "metadata": {
        "colab": {
          "base_uri": "https://localhost:8080/",
          "height": 689
        },
        "id": "vR-0FpAR4wNE",
        "outputId": "b6c6306c-280c-4cd9-8e23-2fc14283a063"
      },
      "outputs": [
        {
          "output_type": "display_data",
          "data": {
            "text/plain": [
              "<Figure size 1100x800 with 1 Axes>"
            ],
            "image/png": "[encoded data removed]"
          },
          "metadata": {}
        }
      ],
      "source": [
        "import seaborn as sns\n",
        "%matplotlib inline\n",
        "\n",
        "sns.set(rc={'figure.figsize':(11,8)}, font_scale=1.5, style='whitegrid')\n",
        "\n",
        "# tips = sns.load_dataset(dataset)\n",
        "sns.boxplot(data=dataset, orient=\"h\");"
      ]
    },
    {
      "cell_type": "markdown",
      "source": [
        "**visualize again to make sure by using the Scatter plot, and we can see that the data is clean of outliers.**"
      ],
      "metadata": {
        "id": "J9slMIUTmZyo"
      }
    },
    {
      "cell_type": "code",
      "source": [
        "# Scatter plot\n",
        "fig, ax = plt.subplots(figsize = (15,7))\n",
        "ax.scatter(dataset['Feet'], dataset['Metres'])\n",
        " \n",
        "# x-axis label\n",
        "ax.set_xlabel('Metres')\n",
        " \n",
        "# y-axis label\n",
        "ax.set_ylabel('Feet')\n",
        "plt.show()"
      ],
      "metadata": {
        "colab": {
          "base_uri": "https://localhost:8080/",
          "height": 580
        },
        "id": "kp3nBBsZ8qQm",
        "outputId": "c441c6b7-456f-4974-ec8d-34840e4449bc"
      },
      "execution_count": 24,
      "outputs": [
        {
          "output_type": "display_data",
          "data": {
            "text/plain": [
              "<Figure size 1500x700 with 1 Axes>"
            ],
            "image/png": "[encoded data removed]"
          },
          "metadata": {}
        }
      ]
    },
    {
      "cell_type": "markdown",
      "source": [
        "Show data distribution based on density (kde - kernel density estimation)"
      ],
      "metadata": {
        "id": "LsjkfEScBUoN"
      }
    },
    {
      "cell_type": "markdown",
      "source": [
        "**looking at the data density using kde, you can see that the graph is converging in the middl**"
      ],
      "metadata": {
        "id": "mePpO9MBmhup"
      }
    },
    {
      "cell_type": "code",
      "execution_count": 25,
      "metadata": {
        "colab": {
          "base_uri": "https://localhost:8080/",
          "height": 152
        },
        "id": "aiF0oNG7_bPz",
        "outputId": "f38de905-a4fe-4e4e-8652-e13299773304"
      },
      "outputs": [
        {
          "output_type": "display_data",
          "data": {
            "text/plain": [
              "<Figure size 1500x1200 with 20 Axes>"
            ],
            "image/png": "[encoded data removed]"
          },
          "metadata": {}
        }
      ],
      "source": [
        "dataset.plot(kind='kde',subplots=True,layout=(10,2),figsize=(15,12), sharex=False)\n",
        "plt.show()"
      ]
    },
    {
      "cell_type": "markdown",
      "source": [
        "Show data distribution based on histogram"
      ],
      "metadata": {
        "id": "wLLPYJxoBkJj"
      }
    },
    {
      "cell_type": "markdown",
      "source": [
        "**Display data functions based on bar charts (histograms). We can see that feet have a varied histogram because feet have the most missing values.**"
      ],
      "metadata": {
        "id": "kwrL2sfMnJLj"
      }
    },
    {
      "cell_type": "code",
      "source": [
        "dataset.plot(kind='hist',subplots=True,layout=(10,2),figsize=(15,12), sharex=False)\n",
        "plt.show()"
      ],
      "metadata": {
        "colab": {
          "base_uri": "https://localhost:8080/",
          "height": 139
        },
        "id": "oGUJFv6oj_Ub",
        "outputId": "0d5ac104-2818-4f6e-b8b5-a72fa70c4de6"
      },
      "execution_count": 26,
      "outputs": [
        {
          "output_type": "display_data",
          "data": {
            "text/plain": [
              "<Figure size 1500x1200 with 20 Axes>"
            ],
            "image/png": "[encoded data removed]"
          },
          "metadata": {}
        }
      ]
    },
    {
      "cell_type": "markdown",
      "source": [
        "**Then display it in line form.**"
      ],
      "metadata": {
        "id": "-PVEPeDmnvTV"
      }
    },
    {
      "cell_type": "code",
      "source": [
        "dataset.plot(kind='line',subplots=True,layout=(10,2),figsize=(15,12), sharex=False)\n",
        "plt.show()"
      ],
      "metadata": {
        "colab": {
          "base_uri": "https://localhost:8080/",
          "height": 145
        },
        "id": "MGk91iI0kZ_3",
        "outputId": "d58b450d-f6a6-4cdc-fa85-f2639de96791"
      },
      "execution_count": 27,
      "outputs": [
        {
          "output_type": "display_data",
          "data": {
            "text/plain": [
              "<Figure size 1500x1200 with 20 Axes>"
            ],
            "image/png": "[encoded data removed]"
          },
          "metadata": {}
        }
      ]
    },
    {
      "cell_type": "markdown",
      "source": [
        "**3.2 CORRELATION MATRIX**"
      ],
      "metadata": {
        "id": "Rdb2Vu6ER6bG"
      }
    },
    {
      "cell_type": "markdown",
      "source": [
        "**then check the correlation matrix using a scatter plot.**"
      ],
      "metadata": {
        "id": "k2tY2p4Dn_xK"
      }
    },
    {
      "cell_type": "code",
      "execution_count": 28,
      "metadata": {
        "colab": {
          "base_uri": "https://localhost:8080/",
          "height": 1000
        },
        "id": "JJfeTBE8AoEU",
        "outputId": "4252af14-69c9-4a99-bd81-96c64ec3e117"
      },
      "outputs": [
        {
          "output_type": "display_data",
          "data": {
            "text/plain": [
              "<Figure size 1200x1200 with 4 Axes>"
            ],
            "image/png": "[encoded data removed]"
          },
          "metadata": {}
        }
      ],
      "source": [
        "pd.plotting.scatter_matrix(dataset,figsize=(12,12))\n",
        "plt.show()"
      ]
    },
    {
      "cell_type": "markdown",
      "source": [
        "**correlation matrix with heatmap**\n",
        "\n"
      ],
      "metadata": {
        "id": "3GkOv0zVElyF"
      }
    },
    {
      "cell_type": "code",
      "execution_count": 29,
      "metadata": {
        "colab": {
          "base_uri": "https://localhost:8080/",
          "height": 652
        },
        "id": "QOpTY-zcm2al",
        "outputId": "cd3b54ed-3c8d-4772-8203-9b72329399b1"
      },
      "outputs": [
        {
          "output_type": "display_data",
          "data": {
            "text/plain": [
              "<Figure size 1500x700 with 2 Axes>"
            ],
            "image/png": "[encoded data removed]"
          },
          "metadata": {}
        }
      ],
      "source": [
        "corr_data = dataset\n",
        "corr = corr_data.corr()\n",
        "\n",
        "cor_plot = sns.heatmap(corr,annot=True,cmap='RdYlGn',linewidths=0.2,annot_kws={'size':10})\n",
        "fig=plt.gcf()\n",
        "fig.set_size_inches(15,7)\n",
        "plt.xticks(fontsize=10,rotation=-30)\n",
        "plt.yticks(fontsize=10)\n",
        "plt.title('Correlation Matrix')\n",
        "plt.show()"
      ]
    },
    {
      "cell_type": "markdown",
      "source": [
        "**4. Splitting Dataset**"
      ],
      "metadata": {
        "id": "Ue-S5QvcEZP3"
      }
    },
    {
      "cell_type": "markdown",
      "source": [
        "**4.1 Slicing**"
      ],
      "metadata": {
        "id": "y6eAqlWSHSCa"
      }
    },
    {
      "cell_type": "markdown",
      "source": [
        "We define x and y as x for data and y for label"
      ],
      "metadata": {
        "id": "bPWKEA19HYEQ"
      }
    },
    {
      "cell_type": "markdown",
      "source": [
        "**The metres will be labels. and other than meters will be the input data.**"
      ],
      "metadata": {
        "id": "qS01j1ZEpT3G"
      }
    },
    {
      "cell_type": "code",
      "source": [
        "x = dataset.drop('Metres', axis=1)\n",
        "x"
      ],
      "metadata": {
        "colab": {
          "base_uri": "https://localhost:8080/",
          "height": 423
        },
        "id": "hCep1ou2LfU1",
        "outputId": "e21c210a-0ab5-4258-ae44-54980994b6b3"
      },
      "execution_count": 40,
      "outputs": [
        {
          "output_type": "execute_result",
          "data": {
            "text/plain": [
              "       Feet\n",
              "30    25466\n",
              "31    25446\n",
              "32    25400\n",
              "33    25358\n",
              "34    25295\n",
              "...     ...\n",
              "1640     16\n",
              "1641     15\n",
              "1642     12\n",
              "1643     10\n",
              "1644      2\n",
              "\n",
              "[1615 rows x 1 columns]"
            ],
            "text/html": [
              "\n",
              "  <div id=\"df-770466fb-ee9d-4a2d-8b97-e34b47455512\">\n",
              "    <div class=\"colab-df-container\">\n",
              "      <div>\n",
              "<style scoped>\n",
              "    .dataframe tbody tr th:only-of-type {\n",
              "        vertical-align: middle;\n",
              "    }\n",
              "\n",
              "    .dataframe tbody tr th {\n",
              "        vertical-align: top;\n",
              "    }\n",
              "\n",
              "    .dataframe thead th {\n",
              "        text-align: right;\n",
              "    }\n",
              "</style>\n",
              "<table border=\"1\" class=\"dataframe\">\n",
              "  <thead>\n",
              "    <tr style=\"text-align: right;\">\n",
              "      <th></th>\n",
              "      <th>Feet</th>\n",
              "    </tr>\n",
              "  </thead>\n",
              "  <tbody>\n",
              "    <tr>\n",
              "      <th>30</th>\n",
              "      <td>25466</td>\n",
              "    </tr>\n",
              "    <tr>\n",
              "      <th>31</th>\n",
              "      <td>25446</td>\n",
              "    </tr>\n",
              "    <tr>\n",
              "      <th>32</th>\n",
              "      <td>25400</td>\n",
              "    </tr>\n",
              "    <tr>\n",
              "      <th>33</th>\n",
              "      <td>25358</td>\n",
              "    </tr>\n",
              "    <tr>\n",
              "      <th>34</th>\n",
              "      <td>25295</td>\n",
              "    </tr>\n",
              "    <tr>\n",
              "      <th>...</th>\n",
              "      <td>...</td>\n",
              "    </tr>\n",
              "    <tr>\n",
              "      <th>1640</th>\n",
              "      <td>16</td>\n",
              "    </tr>\n",
              "    <tr>\n",
              "      <th>1641</th>\n",
              "      <td>15</td>\n",
              "    </tr>\n",
              "    <tr>\n",
              "      <th>1642</th>\n",
              "      <td>12</td>\n",
              "    </tr>\n",
              "    <tr>\n",
              "      <th>1643</th>\n",
              "      <td>10</td>\n",
              "    </tr>\n",
              "    <tr>\n",
              "      <th>1644</th>\n",
              "      <td>2</td>\n",
              "    </tr>\n",
              "  </tbody>\n",
              "</table>\n",
              "<p>1615 rows × 1 columns</p>\n",
              "</div>\n",
              "      <button class=\"colab-df-convert\" onclick=\"convertToInteractive('df-770466fb-ee9d-4a2d-8b97-e34b47455512')\"\n",
              "              title=\"Convert this dataframe to an interactive table.\"\n",
              "              style=\"display:none;\">\n",
              "        \n",
              "  <svg xmlns=\"http://www.w3.org/2000/svg\" height=\"24px\"viewBox=\"0 0 24 24\"\n",
              "       width=\"24px\">\n",
              "    <path d=\"M0 0h24v24H0V0z\" fill=\"none\"/>\n",
              "    <path d=\"M18.56 5.44l.94 2.06.94-2.06 2.06-.94-2.06-.94-.94-2.06-.94 2.06-2.06.94zm-11 1L8.5 8.5l.94-2.06 2.06-.94-2.06-.94L8.5 2.5l-.94 2.06-2.06.94zm10 10l.94 2.06.94-2.06 2.06-.94-2.06-.94-.94-2.06-.94 2.06-2.06.94z\"/><path d=\"M17.41 7.96l-1.37-1.37c-.4-.4-.92-.59-1.43-.59-.52 0-1.04.2-1.43.59L10.3 9.45l-7.72 7.72c-.78.78-.78 2.05 0 2.83L4 21.41c.39.39.9.59 1.41.59.51 0 1.02-.2 1.41-.59l7.78-7.78 2.81-2.81c.8-.78.8-2.07 0-2.86zM5.41 20L4 18.59l7.72-7.72 1.47 1.35L5.41 20z\"/>\n",
              "  </svg>\n",
              "      </button>\n",
              "      \n",
              "  <style>\n",
              "    .colab-df-container {\n",
              "      display:flex;\n",
              "      flex-wrap:wrap;\n",
              "      gap: 12px;\n",
              "    }\n",
              "\n",
              "    .colab-df-convert {\n",
              "      background-color: #E8F0FE;\n",
              "      border: none;\n",
              "      border-radius: 50%;\n",
              "      cursor: pointer;\n",
              "      display: none;\n",
              "      fill: #1967D2;\n",
              "      height: 32px;\n",
              "      padding: 0 0 0 0;\n",
              "      width: 32px;\n",
              "    }\n",
              "\n",
              "    .colab-df-convert:hover {\n",
              "      background-color: #E2EBFA;\n",
              "      box-shadow: 0px 1px 2px rgba(60, 64, 67, 0.3), 0px 1px 3px 1px rgba(60, 64, 67, 0.15);\n",
              "      fill: #174EA6;\n",
              "    }\n",
              "\n",
              "    [theme=dark] .colab-df-convert {\n",
              "      background-color: #3B4455;\n",
              "      fill: #D2E3FC;\n",
              "    }\n",
              "\n",
              "    [theme=dark] .colab-df-convert:hover {\n",
              "      background-color: #434B5C;\n",
              "      box-shadow: 0px 1px 3px 1px rgba(0, 0, 0, 0.15);\n",
              "      filter: drop-shadow(0px 1px 2px rgba(0, 0, 0, 0.3));\n",
              "      fill: #FFFFFF;\n",
              "    }\n",
              "  </style>\n",
              "\n",
              "      <script>\n",
              "        const buttonEl =\n",
              "          document.querySelector('#df-770466fb-ee9d-4a2d-8b97-e34b47455512 button.colab-df-convert');\n",
              "        buttonEl.style.display =\n",
              "          google.colab.kernel.accessAllowed ? 'block' : 'none';\n",
              "\n",
              "        async function convertToInteractive(key) {\n",
              "          const element = document.querySelector('#df-770466fb-ee9d-4a2d-8b97-e34b47455512');\n",
              "          const dataTable =\n",
              "            await google.colab.kernel.invokeFunction('convertToInteractive',\n",
              "                                                     [key], {});\n",
              "          if (!dataTable) return;\n",
              "\n",
              "          const docLinkHtml = 'Like what you see? Visit the ' +\n",
              "            '<a target=\"_blank\" href=https://colab.research.google.com/notebooks/data_table.ipynb>data table notebook</a>'\n",
              "            + ' to learn more about interactive tables.';\n",
              "          element.innerHTML = '';\n",
              "          dataTable['output_type'] = 'display_data';\n",
              "          await google.colab.output.renderOutput(dataTable, element);\n",
              "          const docLink = document.createElement('div');\n",
              "          docLink.innerHTML = docLinkHtml;\n",
              "          element.appendChild(docLink);\n",
              "        }\n",
              "      </script>\n",
              "    </div>\n",
              "  </div>\n",
              "  "
            ]
          },
          "metadata": {},
          "execution_count": 40
        }
      ]
    },
    {
      "cell_type": "markdown",
      "source": [
        "Choose feature Type as a label"
      ],
      "metadata": {
        "id": "SkZgXnQ-tST1"
      }
    },
    {
      "cell_type": "code",
      "source": [
        "y = dataset[\"Metres\"]\n",
        "y"
      ],
      "metadata": {
        "colab": {
          "base_uri": "https://localhost:8080/"
        },
        "id": "WOZTLMYeh3hj",
        "outputId": "ffb45b41-ec80-44f6-ad69-4cd330085760"
      },
      "execution_count": 41,
      "outputs": [
        {
          "output_type": "execute_result",
          "data": {
            "text/plain": [
              "30      7762.00\n",
              "31      7756.00\n",
              "32      7742.00\n",
              "33      7729.00\n",
              "34      7710.00\n",
              "         ...   \n",
              "1640       5.00\n",
              "1641       4.53\n",
              "1642       3.60\n",
              "1643       3.00\n",
              "1644       0.60\n",
              "Name: Metres, Length: 1615, dtype: float64"
            ]
          },
          "metadata": {},
          "execution_count": 41
        }
      ]
    },
    {
      "cell_type": "code",
      "source": [
        "y.values.reshape(-1,1)"
      ],
      "metadata": {
        "colab": {
          "base_uri": "https://localhost:8080/"
        },
        "id": "l6idhdXTrLAD",
        "outputId": "05de006d-3ec8-4e66-af9f-6c656c055c04"
      },
      "execution_count": 42,
      "outputs": [
        {
          "output_type": "execute_result",
          "data": {
            "text/plain": [
              "array([[7.762e+03],\n",
              "       [7.756e+03],\n",
              "       [7.742e+03],\n",
              "       ...,\n",
              "       [3.600e+00],\n",
              "       [3.000e+00],\n",
              "       [6.000e-01]])"
            ]
          },
          "metadata": {},
          "execution_count": 42
        }
      ]
    },
    {
      "cell_type": "markdown",
      "source": [
        "**4.2 Categorical Encoding**\n",
        "\n",
        "Choose One Hot Encoding or Label Encoding for perform categorical encoding\n",
        "\n",
        "**One-Hot Encoding for data input x**"
      ],
      "metadata": {
        "id": "-KhD3RU7qniq"
      }
    },
    {
      "cell_type": "markdown",
      "source": [
        "**Do the transform first using the dummies function**"
      ],
      "metadata": {
        "id": "6eb7ud4Sp3sb"
      }
    },
    {
      "cell_type": "code",
      "source": [
        "x = pd.get_dummies(x)\n",
        "x"
      ],
      "metadata": {
        "colab": {
          "base_uri": "https://localhost:8080/",
          "height": 423
        },
        "id": "y_K5f2vyqNef",
        "outputId": "f4a3252c-945b-490d-da89-7c7d95d1cfca"
      },
      "execution_count": 43,
      "outputs": [
        {
          "output_type": "execute_result",
          "data": {
            "text/plain": [
              "       Feet\n",
              "30    25466\n",
              "31    25446\n",
              "32    25400\n",
              "33    25358\n",
              "34    25295\n",
              "...     ...\n",
              "1640     16\n",
              "1641     15\n",
              "1642     12\n",
              "1643     10\n",
              "1644      2\n",
              "\n",
              "[1615 rows x 1 columns]"
            ],
            "text/html": [
              "\n",
              "  <div id=\"df-682ae00b-82c3-48f3-a25d-e1971581a28f\">\n",
              "    <div class=\"colab-df-container\">\n",
              "      <div>\n",
              "<style scoped>\n",
              "    .dataframe tbody tr th:only-of-type {\n",
              "        vertical-align: middle;\n",
              "    }\n",
              "\n",
              "    .dataframe tbody tr th {\n",
              "        vertical-align: top;\n",
              "    }\n",
              "\n",
              "    .dataframe thead th {\n",
              "        text-align: right;\n",
              "    }\n",
              "</style>\n",
              "<table border=\"1\" class=\"dataframe\">\n",
              "  <thead>\n",
              "    <tr style=\"text-align: right;\">\n",
              "      <th></th>\n",
              "      <th>Feet</th>\n",
              "    </tr>\n",
              "  </thead>\n",
              "  <tbody>\n",
              "    <tr>\n",
              "      <th>30</th>\n",
              "      <td>25466</td>\n",
              "    </tr>\n",
              "    <tr>\n",
              "      <th>31</th>\n",
              "      <td>25446</td>\n",
              "    </tr>\n",
              "    <tr>\n",
              "      <th>32</th>\n",
              "      <td>25400</td>\n",
              "    </tr>\n",
              "    <tr>\n",
              "      <th>33</th>\n",
              "      <td>25358</td>\n",
              "    </tr>\n",
              "    <tr>\n",
              "      <th>34</th>\n",
              "      <td>25295</td>\n",
              "    </tr>\n",
              "    <tr>\n",
              "      <th>...</th>\n",
              "      <td>...</td>\n",
              "    </tr>\n",
              "    <tr>\n",
              "      <th>1640</th>\n",
              "      <td>16</td>\n",
              "    </tr>\n",
              "    <tr>\n",
              "      <th>1641</th>\n",
              "      <td>15</td>\n",
              "    </tr>\n",
              "    <tr>\n",
              "      <th>1642</th>\n",
              "      <td>12</td>\n",
              "    </tr>\n",
              "    <tr>\n",
              "      <th>1643</th>\n",
              "      <td>10</td>\n",
              "    </tr>\n",
              "    <tr>\n",
              "      <th>1644</th>\n",
              "      <td>2</td>\n",
              "    </tr>\n",
              "  </tbody>\n",
              "</table>\n",
              "<p>1615 rows × 1 columns</p>\n",
              "</div>\n",
              "      <button class=\"colab-df-convert\" onclick=\"convertToInteractive('df-682ae00b-82c3-48f3-a25d-e1971581a28f')\"\n",
              "              title=\"Convert this dataframe to an interactive table.\"\n",
              "              style=\"display:none;\">\n",
              "        \n",
              "  <svg xmlns=\"http://www.w3.org/2000/svg\" height=\"24px\"viewBox=\"0 0 24 24\"\n",
              "       width=\"24px\">\n",
              "    <path d=\"M0 0h24v24H0V0z\" fill=\"none\"/>\n",
              "    <path d=\"M18.56 5.44l.94 2.06.94-2.06 2.06-.94-2.06-.94-.94-2.06-.94 2.06-2.06.94zm-11 1L8.5 8.5l.94-2.06 2.06-.94-2.06-.94L8.5 2.5l-.94 2.06-2.06.94zm10 10l.94 2.06.94-2.06 2.06-.94-2.06-.94-.94-2.06-.94 2.06-2.06.94z\"/><path d=\"M17.41 7.96l-1.37-1.37c-.4-.4-.92-.59-1.43-.59-.52 0-1.04.2-1.43.59L10.3 9.45l-7.72 7.72c-.78.78-.78 2.05 0 2.83L4 21.41c.39.39.9.59 1.41.59.51 0 1.02-.2 1.41-.59l7.78-7.78 2.81-2.81c.8-.78.8-2.07 0-2.86zM5.41 20L4 18.59l7.72-7.72 1.47 1.35L5.41 20z\"/>\n",
              "  </svg>\n",
              "      </button>\n",
              "      \n",
              "  <style>\n",
              "    .colab-df-container {\n",
              "      display:flex;\n",
              "      flex-wrap:wrap;\n",
              "      gap: 12px;\n",
              "    }\n",
              "\n",
              "    .colab-df-convert {\n",
              "      background-color: #E8F0FE;\n",
              "      border: none;\n",
              "      border-radius: 50%;\n",
              "      cursor: pointer;\n",
              "      display: none;\n",
              "      fill: #1967D2;\n",
              "      height: 32px;\n",
              "      padding: 0 0 0 0;\n",
              "      width: 32px;\n",
              "    }\n",
              "\n",
              "    .colab-df-convert:hover {\n",
              "      background-color: #E2EBFA;\n",
              "      box-shadow: 0px 1px 2px rgba(60, 64, 67, 0.3), 0px 1px 3px 1px rgba(60, 64, 67, 0.15);\n",
              "      fill: #174EA6;\n",
              "    }\n",
              "\n",
              "    [theme=dark] .colab-df-convert {\n",
              "      background-color: #3B4455;\n",
              "      fill: #D2E3FC;\n",
              "    }\n",
              "\n",
              "    [theme=dark] .colab-df-convert:hover {\n",
              "      background-color: #434B5C;\n",
              "      box-shadow: 0px 1px 3px 1px rgba(0, 0, 0, 0.15);\n",
              "      filter: drop-shadow(0px 1px 2px rgba(0, 0, 0, 0.3));\n",
              "      fill: #FFFFFF;\n",
              "    }\n",
              "  </style>\n",
              "\n",
              "      <script>\n",
              "        const buttonEl =\n",
              "          document.querySelector('#df-682ae00b-82c3-48f3-a25d-e1971581a28f button.colab-df-convert');\n",
              "        buttonEl.style.display =\n",
              "          google.colab.kernel.accessAllowed ? 'block' : 'none';\n",
              "\n",
              "        async function convertToInteractive(key) {\n",
              "          const element = document.querySelector('#df-682ae00b-82c3-48f3-a25d-e1971581a28f');\n",
              "          const dataTable =\n",
              "            await google.colab.kernel.invokeFunction('convertToInteractive',\n",
              "                                                     [key], {});\n",
              "          if (!dataTable) return;\n",
              "\n",
              "          const docLinkHtml = 'Like what you see? Visit the ' +\n",
              "            '<a target=\"_blank\" href=https://colab.research.google.com/notebooks/data_table.ipynb>data table notebook</a>'\n",
              "            + ' to learn more about interactive tables.';\n",
              "          element.innerHTML = '';\n",
              "          dataTable['output_type'] = 'display_data';\n",
              "          await google.colab.output.renderOutput(dataTable, element);\n",
              "          const docLink = document.createElement('div');\n",
              "          docLink.innerHTML = docLinkHtml;\n",
              "          element.appendChild(docLink);\n",
              "        }\n",
              "      </script>\n",
              "    </div>\n",
              "  </div>\n",
              "  "
            ]
          },
          "metadata": {},
          "execution_count": 43
        }
      ]
    },
    {
      "cell_type": "code",
      "source": [
        "x.shape"
      ],
      "metadata": {
        "colab": {
          "base_uri": "https://localhost:8080/"
        },
        "id": "bTWosUkWqZyG",
        "outputId": "98ea2605-356f-4afb-8dec-ab2a043cfe7b"
      },
      "execution_count": 44,
      "outputs": [
        {
          "output_type": "execute_result",
          "data": {
            "text/plain": [
              "(1615, 1)"
            ]
          },
          "metadata": {},
          "execution_count": 44
        }
      ]
    },
    {
      "cell_type": "markdown",
      "source": [
        "**4.2.1 Standarization**"
      ],
      "metadata": {
        "id": "BuOZc5O6GUJz"
      }
    },
    {
      "cell_type": "markdown",
      "source": [
        "Standardization is used on the data values that are normally distributed. Further, by applying standardization, we tend to make the mean of the dataset as 0 and the standard deviation equivalent to 1.\n",
        "\n",
        "That is, by standardizing the values, we get the following statistics of the data distribution\n",
        "\n",
        "mean = 0\n",
        "standard deviation = 1\n",
        "\n",
        "Thus, by this the data set becomes self explanatory and easy to analyze as the mean turns down to 0 and it happens to have an unit variance.\n",
        "\n",
        "References: https://www.askpython.com/python/examples/standardize-data-in-python#:~:text=Ways%20to%20Standardize%20Data%20in%20Python%201%201.,load_iris%20...%202%202.%20Using%20StandardScaler%20%28%29%20function"
      ],
      "metadata": {
        "id": "B4NxpFrsHDmP"
      }
    },
    {
      "cell_type": "code",
      "source": [
        "from sklearn.preprocessing import StandardScaler\n",
        "std_scale = StandardScaler().fit_transform(x)\n",
        "std_scale = pd.DataFrame(std_scale)\n",
        "\n",
        "std_scale"
      ],
      "metadata": {
        "colab": {
          "base_uri": "https://localhost:8080/",
          "height": 423
        },
        "id": "GR-GhzRXGRNg",
        "outputId": "ff5845a1-d7f5-4067-9bd7-c04a91c36f64"
      },
      "execution_count": 45,
      "outputs": [
        {
          "output_type": "execute_result",
          "data": {
            "text/plain": [
              "             0\n",
              "0     2.247311\n",
              "1     2.244106\n",
              "2     2.236736\n",
              "3     2.230006\n",
              "4     2.219912\n",
              "...        ...\n",
              "1610 -1.830409\n",
              "1611 -1.830570\n",
              "1612 -1.831050\n",
              "1613 -1.831371\n",
              "1614 -1.832652\n",
              "\n",
              "[1615 rows x 1 columns]"
            ],
            "text/html": [
              "\n",
              "  <div id=\"df-c745bfc4-674b-427f-ba2b-121d552ae479\">\n",
              "    <div class=\"colab-df-container\">\n",
              "      <div>\n",
              "<style scoped>\n",
              "    .dataframe tbody tr th:only-of-type {\n",
              "        vertical-align: middle;\n",
              "    }\n",
              "\n",
              "    .dataframe tbody tr th {\n",
              "        vertical-align: top;\n",
              "    }\n",
              "\n",
              "    .dataframe thead th {\n",
              "        text-align: right;\n",
              "    }\n",
              "</style>\n",
              "<table border=\"1\" class=\"dataframe\">\n",
              "  <thead>\n",
              "    <tr style=\"text-align: right;\">\n",
              "      <th></th>\n",
              "      <th>0</th>\n",
              "    </tr>\n",
              "  </thead>\n",
              "  <tbody>\n",
              "    <tr>\n",
              "      <th>0</th>\n",
              "      <td>2.247311</td>\n",
              "    </tr>\n",
              "    <tr>\n",
              "      <th>1</th>\n",
              "      <td>2.244106</td>\n",
              "    </tr>\n",
              "    <tr>\n",
              "      <th>2</th>\n",
              "      <td>2.236736</td>\n",
              "    </tr>\n",
              "    <tr>\n",
              "      <th>3</th>\n",
              "      <td>2.230006</td>\n",
              "    </tr>\n",
              "    <tr>\n",
              "      <th>4</th>\n",
              "      <td>2.219912</td>\n",
              "    </tr>\n",
              "    <tr>\n",
              "      <th>...</th>\n",
              "      <td>...</td>\n",
              "    </tr>\n",
              "    <tr>\n",
              "      <th>1610</th>\n",
              "      <td>-1.830409</td>\n",
              "    </tr>\n",
              "    <tr>\n",
              "      <th>1611</th>\n",
              "      <td>-1.830570</td>\n",
              "    </tr>\n",
              "    <tr>\n",
              "      <th>1612</th>\n",
              "      <td>-1.831050</td>\n",
              "    </tr>\n",
              "    <tr>\n",
              "      <th>1613</th>\n",
              "      <td>-1.831371</td>\n",
              "    </tr>\n",
              "    <tr>\n",
              "      <th>1614</th>\n",
              "      <td>-1.832652</td>\n",
              "    </tr>\n",
              "  </tbody>\n",
              "</table>\n",
              "<p>1615 rows × 1 columns</p>\n",
              "</div>\n",
              "      <button class=\"colab-df-convert\" onclick=\"convertToInteractive('df-c745bfc4-674b-427f-ba2b-121d552ae479')\"\n",
              "              title=\"Convert this dataframe to an interactive table.\"\n",
              "              style=\"display:none;\">\n",
              "        \n",
              "  <svg xmlns=\"http://www.w3.org/2000/svg\" height=\"24px\"viewBox=\"0 0 24 24\"\n",
              "       width=\"24px\">\n",
              "    <path d=\"M0 0h24v24H0V0z\" fill=\"none\"/>\n",
              "    <path d=\"M18.56 5.44l.94 2.06.94-2.06 2.06-.94-2.06-.94-.94-2.06-.94 2.06-2.06.94zm-11 1L8.5 8.5l.94-2.06 2.06-.94-2.06-.94L8.5 2.5l-.94 2.06-2.06.94zm10 10l.94 2.06.94-2.06 2.06-.94-2.06-.94-.94-2.06-.94 2.06-2.06.94z\"/><path d=\"M17.41 7.96l-1.37-1.37c-.4-.4-.92-.59-1.43-.59-.52 0-1.04.2-1.43.59L10.3 9.45l-7.72 7.72c-.78.78-.78 2.05 0 2.83L4 21.41c.39.39.9.59 1.41.59.51 0 1.02-.2 1.41-.59l7.78-7.78 2.81-2.81c.8-.78.8-2.07 0-2.86zM5.41 20L4 18.59l7.72-7.72 1.47 1.35L5.41 20z\"/>\n",
              "  </svg>\n",
              "      </button>\n",
              "      \n",
              "  <style>\n",
              "    .colab-df-container {\n",
              "      display:flex;\n",
              "      flex-wrap:wrap;\n",
              "      gap: 12px;\n",
              "    }\n",
              "\n",
              "    .colab-df-convert {\n",
              "      background-color: #E8F0FE;\n",
              "      border: none;\n",
              "      border-radius: 50%;\n",
              "      cursor: pointer;\n",
              "      display: none;\n",
              "      fill: #1967D2;\n",
              "      height: 32px;\n",
              "      padding: 0 0 0 0;\n",
              "      width: 32px;\n",
              "    }\n",
              "\n",
              "    .colab-df-convert:hover {\n",
              "      background-color: #E2EBFA;\n",
              "      box-shadow: 0px 1px 2px rgba(60, 64, 67, 0.3), 0px 1px 3px 1px rgba(60, 64, 67, 0.15);\n",
              "      fill: #174EA6;\n",
              "    }\n",
              "\n",
              "    [theme=dark] .colab-df-convert {\n",
              "      background-color: #3B4455;\n",
              "      fill: #D2E3FC;\n",
              "    }\n",
              "\n",
              "    [theme=dark] .colab-df-convert:hover {\n",
              "      background-color: #434B5C;\n",
              "      box-shadow: 0px 1px 3px 1px rgba(0, 0, 0, 0.15);\n",
              "      filter: drop-shadow(0px 1px 2px rgba(0, 0, 0, 0.3));\n",
              "      fill: #FFFFFF;\n",
              "    }\n",
              "  </style>\n",
              "\n",
              "      <script>\n",
              "        const buttonEl =\n",
              "          document.querySelector('#df-c745bfc4-674b-427f-ba2b-121d552ae479 button.colab-df-convert');\n",
              "        buttonEl.style.display =\n",
              "          google.colab.kernel.accessAllowed ? 'block' : 'none';\n",
              "\n",
              "        async function convertToInteractive(key) {\n",
              "          const element = document.querySelector('#df-c745bfc4-674b-427f-ba2b-121d552ae479');\n",
              "          const dataTable =\n",
              "            await google.colab.kernel.invokeFunction('convertToInteractive',\n",
              "                                                     [key], {});\n",
              "          if (!dataTable) return;\n",
              "\n",
              "          const docLinkHtml = 'Like what you see? Visit the ' +\n",
              "            '<a target=\"_blank\" href=https://colab.research.google.com/notebooks/data_table.ipynb>data table notebook</a>'\n",
              "            + ' to learn more about interactive tables.';\n",
              "          element.innerHTML = '';\n",
              "          dataTable['output_type'] = 'display_data';\n",
              "          await google.colab.output.renderOutput(dataTable, element);\n",
              "          const docLink = document.createElement('div');\n",
              "          docLink.innerHTML = docLinkHtml;\n",
              "          element.appendChild(docLink);\n",
              "        }\n",
              "      </script>\n",
              "    </div>\n",
              "  </div>\n",
              "  "
            ]
          },
          "metadata": {},
          "execution_count": 45
        }
      ]
    },
    {
      "cell_type": "markdown",
      "source": [
        "**4.2.2 Normalization**\n",
        "\n",
        "A way to normalize the input features/variables is the Min-Max scaler. By doing so, all features will be transformed into the range [0,1] meaning that the minimum and maximum value of a feature/variable is going to be 0 and 1, respectively.\n",
        "\n",
        "The main idea behind normalization/standardization is always the same. Variables that are measured at different scales do not contribute equally to the model fitting & model learned function and might end up creating a bias. Thus, to deal with this potential problem feature-wise normalization such as MinMax Scaling is usually used prior to model fitting.\n",
        "\n",
        "reference : https://stackoverflow.com/questions/62178888/can-someone-explain-to-me-how-minmaxscaler-works\n"
      ],
      "metadata": {
        "id": "AdhBeaKIFLfN"
      }
    },
    {
      "cell_type": "code",
      "source": [
        "from sklearn.preprocessing import MinMaxScaler\n",
        "x = MinMaxScaler().fit_transform(x)\n",
        "x = pd.DataFrame(x)\n",
        "\n",
        "x"
      ],
      "metadata": {
        "id": "gtFKYb9DlEhV",
        "colab": {
          "base_uri": "https://localhost:8080/",
          "height": 423
        },
        "outputId": "4ce7c1c8-7c76-41b7-8a82-1ed008173a96"
      },
      "execution_count": 46,
      "outputs": [
        {
          "output_type": "execute_result",
          "data": {
            "text/plain": [
              "             0\n",
              "0     1.000000\n",
              "1     0.999215\n",
              "2     0.997408\n",
              "3     0.995759\n",
              "4     0.993285\n",
              "...        ...\n",
              "1610  0.000550\n",
              "1611  0.000511\n",
              "1612  0.000393\n",
              "1613  0.000314\n",
              "1614  0.000000\n",
              "\n",
              "[1615 rows x 1 columns]"
            ],
            "text/html": [
              "\n",
              "  <div id=\"df-884a96f0-42b5-4258-b81c-b0a5f2ae328d\">\n",
              "    <div class=\"colab-df-container\">\n",
              "      <div>\n",
              "<style scoped>\n",
              "    .dataframe tbody tr th:only-of-type {\n",
              "        vertical-align: middle;\n",
              "    }\n",
              "\n",
              "    .dataframe tbody tr th {\n",
              "        vertical-align: top;\n",
              "    }\n",
              "\n",
              "    .dataframe thead th {\n",
              "        text-align: right;\n",
              "    }\n",
              "</style>\n",
              "<table border=\"1\" class=\"dataframe\">\n",
              "  <thead>\n",
              "    <tr style=\"text-align: right;\">\n",
              "      <th></th>\n",
              "      <th>0</th>\n",
              "    </tr>\n",
              "  </thead>\n",
              "  <tbody>\n",
              "    <tr>\n",
              "      <th>0</th>\n",
              "      <td>1.000000</td>\n",
              "    </tr>\n",
              "    <tr>\n",
              "      <th>1</th>\n",
              "      <td>0.999215</td>\n",
              "    </tr>\n",
              "    <tr>\n",
              "      <th>2</th>\n",
              "      <td>0.997408</td>\n",
              "    </tr>\n",
              "    <tr>\n",
              "      <th>3</th>\n",
              "      <td>0.995759</td>\n",
              "    </tr>\n",
              "    <tr>\n",
              "      <th>4</th>\n",
              "      <td>0.993285</td>\n",
              "    </tr>\n",
              "    <tr>\n",
              "      <th>...</th>\n",
              "      <td>...</td>\n",
              "    </tr>\n",
              "    <tr>\n",
              "      <th>1610</th>\n",
              "      <td>0.000550</td>\n",
              "    </tr>\n",
              "    <tr>\n",
              "      <th>1611</th>\n",
              "      <td>0.000511</td>\n",
              "    </tr>\n",
              "    <tr>\n",
              "      <th>1612</th>\n",
              "      <td>0.000393</td>\n",
              "    </tr>\n",
              "    <tr>\n",
              "      <th>1613</th>\n",
              "      <td>0.000314</td>\n",
              "    </tr>\n",
              "    <tr>\n",
              "      <th>1614</th>\n",
              "      <td>0.000000</td>\n",
              "    </tr>\n",
              "  </tbody>\n",
              "</table>\n",
              "<p>1615 rows × 1 columns</p>\n",
              "</div>\n",
              "      <button class=\"colab-df-convert\" onclick=\"convertToInteractive('df-884a96f0-42b5-4258-b81c-b0a5f2ae328d')\"\n",
              "              title=\"Convert this dataframe to an interactive table.\"\n",
              "              style=\"display:none;\">\n",
              "        \n",
              "  <svg xmlns=\"http://www.w3.org/2000/svg\" height=\"24px\"viewBox=\"0 0 24 24\"\n",
              "       width=\"24px\">\n",
              "    <path d=\"M0 0h24v24H0V0z\" fill=\"none\"/>\n",
              "    <path d=\"M18.56 5.44l.94 2.06.94-2.06 2.06-.94-2.06-.94-.94-2.06-.94 2.06-2.06.94zm-11 1L8.5 8.5l.94-2.06 2.06-.94-2.06-.94L8.5 2.5l-.94 2.06-2.06.94zm10 10l.94 2.06.94-2.06 2.06-.94-2.06-.94-.94-2.06-.94 2.06-2.06.94z\"/><path d=\"M17.41 7.96l-1.37-1.37c-.4-.4-.92-.59-1.43-.59-.52 0-1.04.2-1.43.59L10.3 9.45l-7.72 7.72c-.78.78-.78 2.05 0 2.83L4 21.41c.39.39.9.59 1.41.59.51 0 1.02-.2 1.41-.59l7.78-7.78 2.81-2.81c.8-.78.8-2.07 0-2.86zM5.41 20L4 18.59l7.72-7.72 1.47 1.35L5.41 20z\"/>\n",
              "  </svg>\n",
              "      </button>\n",
              "      \n",
              "  <style>\n",
              "    .colab-df-container {\n",
              "      display:flex;\n",
              "      flex-wrap:wrap;\n",
              "      gap: 12px;\n",
              "    }\n",
              "\n",
              "    .colab-df-convert {\n",
              "      background-color: #E8F0FE;\n",
              "      border: none;\n",
              "      border-radius: 50%;\n",
              "      cursor: pointer;\n",
              "      display: none;\n",
              "      fill: #1967D2;\n",
              "      height: 32px;\n",
              "      padding: 0 0 0 0;\n",
              "      width: 32px;\n",
              "    }\n",
              "\n",
              "    .colab-df-convert:hover {\n",
              "      background-color: #E2EBFA;\n",
              "      box-shadow: 0px 1px 2px rgba(60, 64, 67, 0.3), 0px 1px 3px 1px rgba(60, 64, 67, 0.15);\n",
              "      fill: #174EA6;\n",
              "    }\n",
              "\n",
              "    [theme=dark] .colab-df-convert {\n",
              "      background-color: #3B4455;\n",
              "      fill: #D2E3FC;\n",
              "    }\n",
              "\n",
              "    [theme=dark] .colab-df-convert:hover {\n",
              "      background-color: #434B5C;\n",
              "      box-shadow: 0px 1px 3px 1px rgba(0, 0, 0, 0.15);\n",
              "      filter: drop-shadow(0px 1px 2px rgba(0, 0, 0, 0.3));\n",
              "      fill: #FFFFFF;\n",
              "    }\n",
              "  </style>\n",
              "\n",
              "      <script>\n",
              "        const buttonEl =\n",
              "          document.querySelector('#df-884a96f0-42b5-4258-b81c-b0a5f2ae328d button.colab-df-convert');\n",
              "        buttonEl.style.display =\n",
              "          google.colab.kernel.accessAllowed ? 'block' : 'none';\n",
              "\n",
              "        async function convertToInteractive(key) {\n",
              "          const element = document.querySelector('#df-884a96f0-42b5-4258-b81c-b0a5f2ae328d');\n",
              "          const dataTable =\n",
              "            await google.colab.kernel.invokeFunction('convertToInteractive',\n",
              "                                                     [key], {});\n",
              "          if (!dataTable) return;\n",
              "\n",
              "          const docLinkHtml = 'Like what you see? Visit the ' +\n",
              "            '<a target=\"_blank\" href=https://colab.research.google.com/notebooks/data_table.ipynb>data table notebook</a>'\n",
              "            + ' to learn more about interactive tables.';\n",
              "          element.innerHTML = '';\n",
              "          dataTable['output_type'] = 'display_data';\n",
              "          await google.colab.output.renderOutput(dataTable, element);\n",
              "          const docLink = document.createElement('div');\n",
              "          docLink.innerHTML = docLinkHtml;\n",
              "          element.appendChild(docLink);\n",
              "        }\n",
              "      </script>\n",
              "    </div>\n",
              "  </div>\n",
              "  "
            ]
          },
          "metadata": {},
          "execution_count": 46
        }
      ]
    },
    {
      "cell_type": "markdown",
      "source": [
        "**4.3 Splitting**"
      ],
      "metadata": {
        "id": "U5mVChyqI7e9"
      }
    },
    {
      "cell_type": "code",
      "source": [
        "from sklearn.model_selection import train_test_split\n",
        "xTrain, xTest, yTrain, yTest = train_test_split(x, y, train_size=0.8, random_state=1, stratify=y)"
      ],
      "metadata": {
        "id": "ACJMGLAHigHI"
      },
      "execution_count": 74,
      "outputs": []
    },
    {
      "cell_type": "markdown",
      "source": [
        "**data distribution for train & test is displayed on the data. and get Train distribution Counter({1: 267, 0: 267, 2: 266}) & Test distribution Counter({0: 67, 2: 67, 1: 66})**"
      ],
      "metadata": {
        "id": "LRGG6Ew5rM1B"
      }
    },
    {
      "cell_type": "code",
      "source": [
        "from collections import Counter\n",
        "print(\"Train distribution\", Counter(yTrain))\n",
        "print(\"Test distribution\", Counter(yTest))"
      ],
      "metadata": {
        "colab": {
          "base_uri": "https://localhost:8080/"
        },
        "id": "sSICmqDpMomI",
        "outputId": "ad41f643-3a04-45ae-c2c3-6e1fc19fefbe"
      },
      "execution_count": 75,
      "outputs": [
        {
          "output_type": "stream",
          "name": "stdout",
          "text": [
            "Train distribution Counter({1: 267, 0: 267, 2: 266})\n",
            "Test distribution Counter({0: 67, 2: 67, 1: 66})\n"
          ]
        }
      ]
    },
    {
      "cell_type": "markdown",
      "source": [
        "This stratify parameter makes a split so that the proportion of values in the sample produced will be the same as the proportion of values provided to parameter stratify.\n",
        "\n",
        "For example, if variable y is a binary categorical variable with values 0 and 1 and there are 25% of zeros and 75% of ones, stratify=y will make sure that your random split has 25% of 0's and 75% of 1's.\n",
        "\n",
        "For more: https://stackoverflow.com/questions/34842405/parameter-stratify-from-method-train-test-split-scikit-learn"
      ],
      "metadata": {
        "id": "QyCbWtbCI3v5"
      }
    },
    {
      "cell_type": "code",
      "source": [
        "from sklearn.linear_model import LogisticRegression\n",
        "\n",
        "models = []\n",
        "models.append(('LR', LogisticRegression()))"
      ],
      "metadata": {
        "id": "-9rDCS2vNw0D"
      },
      "execution_count": 76,
      "outputs": []
    },
    {
      "cell_type": "code",
      "source": [
        "results_c = []\n",
        "names_c = []\n",
        "\n",
        "for name, model in models:\n",
        "    # define how to split off validation data ('kfold' how many folds)\n",
        "    kfold = KFold(n_splits=10)    \n",
        "    # train the model\n",
        "    cv_results = cross_val_score(model, xTrain, yTrain, cv=kfold, scoring='accuracy')    \n",
        "    results_c.append(cv_results)\n",
        "    names_c.append(name)\n",
        "    msg = \"%s: %f (%f)\" % (name, cv_results.mean(), cv_results.std())\n",
        "    print(msg)"
      ],
      "metadata": {
        "colab": {
          "base_uri": "https://localhost:8080/"
        },
        "id": "4_yApp8fqKar",
        "outputId": "1df4ab18-3a27-41c7-89f8-4870ea6ed4bb"
      },
      "execution_count": 77,
      "outputs": [
        {
          "output_type": "stream",
          "name": "stdout",
          "text": [
            "LR: 0.751250 (0.053165)\n"
          ]
        }
      ]
    },
    {
      "cell_type": "code",
      "source": [
        "LR = LogisticRegression()\n",
        "LR.fit(xTrain, yTrain)"
      ],
      "metadata": {
        "colab": {
          "base_uri": "https://localhost:8080/",
          "height": 74
        },
        "id": "xQ1qS0elrBK6",
        "outputId": "ec036a7a-f88d-4752-fc0c-73e0d724aee7"
      },
      "execution_count": 78,
      "outputs": [
        {
          "output_type": "execute_result",
          "data": {
            "text/plain": [
              "LogisticRegression()"
            ],
            "text/html": [
              "<style>#sk-container-id-3 {color: black;background-color: white;}#sk-container-id-3 pre{padding: 0;}#sk-container-id-3 div.sk-toggleable {background-color: white;}#sk-container-id-3 label.sk-toggleable__label {cursor: pointer;display: block;width: 100%;margin-bottom: 0;padding: 0.3em;box-sizing: border-box;text-align: center;}#sk-container-id-3 label.sk-toggleable__label-arrow:before {content: \"▸\";float: left;margin-right: 0.25em;color: #696969;}#sk-container-id-3 label.sk-toggleable__label-arrow:hover:before {color: black;}#sk-container-id-3 div.sk-estimator:hover label.sk-toggleable__label-arrow:before {color: black;}#sk-container-id-3 div.sk-toggleable__content {max-height: 0;max-width: 0;overflow: hidden;text-align: left;background-color: #f0f8ff;}#sk-container-id-3 div.sk-toggleable__content pre {margin: 0.2em;color: black;border-radius: 0.25em;background-color: #f0f8ff;}#sk-container-id-3 input.sk-toggleable__control:checked~div.sk-toggleable__content {max-height: 200px;max-width: 100%;overflow: auto;}#sk-container-id-3 input.sk-toggleable__control:checked~label.sk-toggleable__label-arrow:before {content: \"▾\";}#sk-container-id-3 div.sk-estimator input.sk-toggleable__control:checked~label.sk-toggleable__label {background-color: #d4ebff;}#sk-container-id-3 div.sk-label input.sk-toggleable__control:checked~label.sk-toggleable__label {background-color: #d4ebff;}#sk-container-id-3 input.sk-hidden--visually {border: 0;clip: rect(1px 1px 1px 1px);clip: rect(1px, 1px, 1px, 1px);height: 1px;margin: -1px;overflow: hidden;padding: 0;position: absolute;width: 1px;}#sk-container-id-3 div.sk-estimator {font-family: monospace;background-color: #f0f8ff;border: 1px dotted black;border-radius: 0.25em;box-sizing: border-box;margin-bottom: 0.5em;}#sk-container-id-3 div.sk-estimator:hover {background-color: #d4ebff;}#sk-container-id-3 div.sk-parallel-item::after {content: \"\";width: 100%;border-bottom: 1px solid gray;flex-grow: 1;}#sk-container-id-3 div.sk-label:hover label.sk-toggleable__label {background-color: #d4ebff;}#sk-container-id-3 div.sk-serial::before {content: \"\";position: absolute;border-left: 1px solid gray;box-sizing: border-box;top: 0;bottom: 0;left: 50%;z-index: 0;}#sk-container-id-3 div.sk-serial {display: flex;flex-direction: column;align-items: center;background-color: white;padding-right: 0.2em;padding-left: 0.2em;position: relative;}#sk-container-id-3 div.sk-item {position: relative;z-index: 1;}#sk-container-id-3 div.sk-parallel {display: flex;align-items: stretch;justify-content: center;background-color: white;position: relative;}#sk-container-id-3 div.sk-item::before, #sk-container-id-3 div.sk-parallel-item::before {content: \"\";position: absolute;border-left: 1px solid gray;box-sizing: border-box;top: 0;bottom: 0;left: 50%;z-index: -1;}#sk-container-id-3 div.sk-parallel-item {display: flex;flex-direction: column;z-index: 1;position: relative;background-color: white;}#sk-container-id-3 div.sk-parallel-item:first-child::after {align-self: flex-end;width: 50%;}#sk-container-id-3 div.sk-parallel-item:last-child::after {align-self: flex-start;width: 50%;}#sk-container-id-3 div.sk-parallel-item:only-child::after {width: 0;}#sk-container-id-3 div.sk-dashed-wrapped {border: 1px dashed gray;margin: 0 0.4em 0.5em 0.4em;box-sizing: border-box;padding-bottom: 0.4em;background-color: white;}#sk-container-id-3 div.sk-label label {font-family: monospace;font-weight: bold;display: inline-block;line-height: 1.2em;}#sk-container-id-3 div.sk-label-container {text-align: center;}#sk-container-id-3 div.sk-container {/* jupyter's `normalize.less` sets `[hidden] { display: none; }` but bootstrap.min.css set `[hidden] { display: none !important; }` so we also need the `!important` here to be able to override the default hidden behavior on the sphinx rendered scikit-learn.org. See: https://github.com/scikit-learn/scikit-learn/issues/21755 */display: inline-block !important;position: relative;}#sk-container-id-3 div.sk-text-repr-fallback {display: none;}</style><div id=\"sk-container-id-3\" class=\"sk-top-container\"><div class=\"sk-text-repr-fallback\"><pre>LogisticRegression()</pre><b>In a Jupyter environment, please rerun this cell to show the HTML representation or trust the notebook. <br />On GitHub, the HTML representation is unable to render, please try loading this page with nbviewer.org.</b></div><div class=\"sk-container\" hidden><div class=\"sk-item\"><div class=\"sk-estimator sk-toggleable\"><input class=\"sk-toggleable__control sk-hidden--visually\" id=\"sk-estimator-id-3\" type=\"checkbox\" checked><label for=\"sk-estimator-id-3\" class=\"sk-toggleable__label sk-toggleable__label-arrow\">LogisticRegression</label><div class=\"sk-toggleable__content\"><pre>LogisticRegression()</pre></div></div></div></div></div>"
            ]
          },
          "metadata": {},
          "execution_count": 78
        }
      ]
    },
    {
      "cell_type": "code",
      "source": [
        "predictions = LR.predict(xTest)\n",
        "print(accuracy_score(yTest, predictions))"
      ],
      "metadata": {
        "id": "08s4bURXrm0U",
        "colab": {
          "base_uri": "https://localhost:8080/"
        },
        "outputId": "d40e526a-0100-4cfb-f198-d49696377528"
      },
      "execution_count": 79,
      "outputs": [
        {
          "output_type": "stream",
          "name": "stdout",
          "text": [
            "0.685\n"
          ]
        }
      ]
    },
    {
      "cell_type": "code",
      "source": [
        "# Confusion Matrix \n",
        "from sklearn.metrics import confusion_matrix\n",
        "import pylab as pl\n",
        "\n",
        "print(confusion_matrix(yTest, predictions))\n",
        "\n",
        "cm = confusion_matrix(yTest, predictions)\n",
        "pl.matshow(cm)\n",
        "pl.title('Confusion matrix of the classifier')\n",
        "pl.colorbar()\n",
        "pl.show()"
      ],
      "metadata": {
        "colab": {
          "base_uri": "https://localhost:8080/",
          "height": 724
        },
        "id": "Wh2-d2uCr17a",
        "outputId": "dd382052-d586-405f-ca2d-2474b943acc1"
      },
      "execution_count": 80,
      "outputs": [
        {
          "output_type": "stream",
          "name": "stdout",
          "text": [
            "[[67  0  0]\n",
            " [ 0 34 32]\n",
            " [ 0 31 36]]\n"
          ]
        },
        {
          "output_type": "display_data",
          "data": {
            "text/plain": [
              "<Figure size 800x800 with 2 Axes>"
            ],
            "image/png": "[encoded data removed]"
          },
          "metadata": {}
        }
      ]
    },
    {
      "cell_type": "code",
      "source": [
        "# Classification Report\n",
        "from sklearn.metrics import classification_report\n",
        "print(classification_report(yTest, predictions))"
      ],
      "metadata": {
        "colab": {
          "base_uri": "https://localhost:8080/"
        },
        "id": "gL6HppHzsRBw",
        "outputId": "21c95b74-ec84-4a44-d127-03173c9ccce3"
      },
      "execution_count": 81,
      "outputs": [
        {
          "output_type": "stream",
          "name": "stdout",
          "text": [
            "              precision    recall  f1-score   support\n",
            "\n",
            "           0       1.00      1.00      1.00        67\n",
            "           1       0.52      0.52      0.52        66\n",
            "           2       0.53      0.54      0.53        67\n",
            "\n",
            "    accuracy                           0.69       200\n",
            "   macro avg       0.68      0.68      0.68       200\n",
            "weighted avg       0.68      0.69      0.68       200\n",
            "\n"
          ]
        }
      ]
    },
    {
      "cell_type": "code",
      "execution_count": 58,
      "metadata": {
        "id": "OxfpNV63imB-"
      },
      "outputs": [],
      "source": []
    }
  ],
  "metadata": {
    "accelerator": "TPU",
    "colab": {
      "provenance": [],
      "machine_shape": "hm"
    },
    "kernelspec": {
      "display_name": "Python 3",
      "name": "python3"
    },
    "gpuClass": "premium"
  },
  "nbformat": 4,
  "nbformat_minor": 0
}