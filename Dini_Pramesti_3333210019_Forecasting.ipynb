{
  "cells": [
    {
      "cell_type": "markdown",
      "source": [
        "**Time Series**\n",
        "\n",
        "A time-series is a series of data points indexed in time order and it is used to predict the future based on the previous observed values. Time series are very frequently plotted via line charts. Time series are used in statistics , weather forecasting, stock price prediction, pattern recognititon, earthquake prediction, e.t.c.\n",
        "\n",
        "Time series analysis comprises methods for analysing time series data in order to extract meaningful statistics and other characteristics of the data.\n",
        "\n",
        "Time series forecasting is the use of a model to predict future values based on previously observed values."
      ],
      "metadata": {
        "id": "ceTGfrcAoIyG"
      }
    },
    {
      "cell_type": "markdown",
      "source": [
        "**Import Library**"
      ],
      "metadata": {
        "id": "KTuS__yhzwG4"
      }
    },
    {
      "cell_type": "code",
      "source": [
        "import pandas as pd\n",
        "import numpy as np\n",
        "import matplotlib.pyplot as plt\n",
        "import seaborn as sns\n",
        "import math\n",
        "import datetime\n",
        "%matplotlib inline"
      ],
      "metadata": {
        "id": "uCngqnD4qrmY"
      },
      "execution_count": null,
      "outputs": []
    },
    {
      "cell_type": "markdown",
      "source": [
        "**Import Dataset**"
      ],
      "metadata": {
        "id": "8hRjDuoyzlpH"
      }
    },
    {
      "cell_type": "markdown",
      "source": [
        "Dataset source : https://www.kaggle.com/datasets/suddharshan/historical-stock-price-of-10-popular-companies?select=Microsoft.csv"
      ],
      "metadata": {
        "id": "IzZdTvtYzpUg"
      }
    },
    {
      "cell_type": "markdown",
      "source": [
        "#**About Dataset**\n",
        "**Context**\n",
        "The subject matter of this dataset contains the stock prices of the 10 popular companies ( Apple, Amazon, Netflix, Microsoft, Google, Facebook, Tesla, Walmart, Uber and Zoom)\n",
        "\n",
        "**Content**\n",
        "Within the dataset one will encounter the following:\n",
        "The date - \"Date\"\n",
        "The opening price of the stock - \"Open\"\n",
        "The high price of that day - \"High\"\n",
        "The low price of that day - \"Low\"\n",
        "The closed price of that day - \"Close\"\n",
        "The amount of stocks traded during that day - \"Volume\"\n",
        "The stock's closing price that has been amended to include any distributions/corporate actions that occurs before next days open - \"Adj[usted] Close\"\n",
        "Time period - 2015 to 2021 (day level)\n",
        "\n",
        "**Tasks**\n",
        "1. Exploratory Data Analysis\n",
        "2. Tell a visualization story\n",
        "3. Compare stock price growth between companies\n",
        "4. Stock price prediction\n",
        "5. Time series analysis"
      ],
      "metadata": {
        "id": "tgdhDLBuNJou"
      }
    },
    {
      "cell_type": "code",
      "source": [
        "train_data = pd.read_csv('Microsoft.csv')\n",
        "train_data.head()"
      ],
      "metadata": {
        "colab": {
          "base_uri": "https://localhost:8080/",
          "height": 206
        },
        "id": "z4ytHhkuz0hQ",
        "outputId": "f5e5ed48-4d19-4cdc-b21f-12c7aec82df0"
      },
      "execution_count": null,
      "outputs": [
        {
          "output_type": "execute_result",
          "data": {
            "text/plain": [
              "         Date       Open       High        Low      Close  Adj Close    Volume\n",
              "0  2015-01-02  46.660000  47.419998  46.540001  46.759998  41.193840  27913900\n",
              "1  2015-01-05  46.369999  46.730000  46.250000  46.330002  40.815037  39673900\n",
              "2  2015-01-06  46.380001  46.750000  45.540001  45.650002  40.215973  36447900\n",
              "3  2015-01-07  45.980000  46.459999  45.490002  46.230000  40.726925  29114100\n",
              "4  2015-01-08  46.750000  47.750000  46.720001  47.590000  41.925045  29645200"
            ],
            "text/html": [
              "\n",
              "  <div id=\"df-35e49d67-b924-4544-a50a-feefa87e7ce2\">\n",
              "    <div class=\"colab-df-container\">\n",
              "      <div>\n",
              "<style scoped>\n",
              "    .dataframe tbody tr th:only-of-type {\n",
              "        vertical-align: middle;\n",
              "    }\n",
              "\n",
              "    .dataframe tbody tr th {\n",
              "        vertical-align: top;\n",
              "    }\n",
              "\n",
              "    .dataframe thead th {\n",
              "        text-align: right;\n",
              "    }\n",
              "</style>\n",
              "<table border=\"1\" class=\"dataframe\">\n",
              "  <thead>\n",
              "    <tr style=\"text-align: right;\">\n",
              "      <th></th>\n",
              "      <th>Date</th>\n",
              "      <th>Open</th>\n",
              "      <th>High</th>\n",
              "      <th>Low</th>\n",
              "      <th>Close</th>\n",
              "      <th>Adj Close</th>\n",
              "      <th>Volume</th>\n",
              "    </tr>\n",
              "  </thead>\n",
              "  <tbody>\n",
              "    <tr>\n",
              "      <th>0</th>\n",
              "      <td>2015-01-02</td>\n",
              "      <td>46.660000</td>\n",
              "      <td>47.419998</td>\n",
              "      <td>46.540001</td>\n",
              "      <td>46.759998</td>\n",
              "      <td>41.193840</td>\n",
              "      <td>27913900</td>\n",
              "    </tr>\n",
              "    <tr>\n",
              "      <th>1</th>\n",
              "      <td>2015-01-05</td>\n",
              "      <td>46.369999</td>\n",
              "      <td>46.730000</td>\n",
              "      <td>46.250000</td>\n",
              "      <td>46.330002</td>\n",
              "      <td>40.815037</td>\n",
              "      <td>39673900</td>\n",
              "    </tr>\n",
              "    <tr>\n",
              "      <th>2</th>\n",
              "      <td>2015-01-06</td>\n",
              "      <td>46.380001</td>\n",
              "      <td>46.750000</td>\n",
              "      <td>45.540001</td>\n",
              "      <td>45.650002</td>\n",
              "      <td>40.215973</td>\n",
              "      <td>36447900</td>\n",
              "    </tr>\n",
              "    <tr>\n",
              "      <th>3</th>\n",
              "      <td>2015-01-07</td>\n",
              "      <td>45.980000</td>\n",
              "      <td>46.459999</td>\n",
              "      <td>45.490002</td>\n",
              "      <td>46.230000</td>\n",
              "      <td>40.726925</td>\n",
              "      <td>29114100</td>\n",
              "    </tr>\n",
              "    <tr>\n",
              "      <th>4</th>\n",
              "      <td>2015-01-08</td>\n",
              "      <td>46.750000</td>\n",
              "      <td>47.750000</td>\n",
              "      <td>46.720001</td>\n",
              "      <td>47.590000</td>\n",
              "      <td>41.925045</td>\n",
              "      <td>29645200</td>\n",
              "    </tr>\n",
              "  </tbody>\n",
              "</table>\n",
              "</div>\n",
              "      <button class=\"colab-df-convert\" onclick=\"convertToInteractive('df-35e49d67-b924-4544-a50a-feefa87e7ce2')\"\n",
              "              title=\"Convert this dataframe to an interactive table.\"\n",
              "              style=\"display:none;\">\n",
              "        \n",
              "  <svg xmlns=\"http://www.w3.org/2000/svg\" height=\"24px\"viewBox=\"0 0 24 24\"\n",
              "       width=\"24px\">\n",
              "    <path d=\"M0 0h24v24H0V0z\" fill=\"none\"/>\n",
              "    <path d=\"M18.56 5.44l.94 2.06.94-2.06 2.06-.94-2.06-.94-.94-2.06-.94 2.06-2.06.94zm-11 1L8.5 8.5l.94-2.06 2.06-.94-2.06-.94L8.5 2.5l-.94 2.06-2.06.94zm10 10l.94 2.06.94-2.06 2.06-.94-2.06-.94-.94-2.06-.94 2.06-2.06.94z\"/><path d=\"M17.41 7.96l-1.37-1.37c-.4-.4-.92-.59-1.43-.59-.52 0-1.04.2-1.43.59L10.3 9.45l-7.72 7.72c-.78.78-.78 2.05 0 2.83L4 21.41c.39.39.9.59 1.41.59.51 0 1.02-.2 1.41-.59l7.78-7.78 2.81-2.81c.8-.78.8-2.07 0-2.86zM5.41 20L4 18.59l7.72-7.72 1.47 1.35L5.41 20z\"/>\n",
              "  </svg>\n",
              "      </button>\n",
              "      \n",
              "  <style>\n",
              "    .colab-df-container {\n",
              "      display:flex;\n",
              "      flex-wrap:wrap;\n",
              "      gap: 12px;\n",
              "    }\n",
              "\n",
              "    .colab-df-convert {\n",
              "      background-color: #E8F0FE;\n",
              "      border: none;\n",
              "      border-radius: 50%;\n",
              "      cursor: pointer;\n",
              "      display: none;\n",
              "      fill: #1967D2;\n",
              "      height: 32px;\n",
              "      padding: 0 0 0 0;\n",
              "      width: 32px;\n",
              "    }\n",
              "\n",
              "    .colab-df-convert:hover {\n",
              "      background-color: #E2EBFA;\n",
              "      box-shadow: 0px 1px 2px rgba(60, 64, 67, 0.3), 0px 1px 3px 1px rgba(60, 64, 67, 0.15);\n",
              "      fill: #174EA6;\n",
              "    }\n",
              "\n",
              "    [theme=dark] .colab-df-convert {\n",
              "      background-color: #3B4455;\n",
              "      fill: #D2E3FC;\n",
              "    }\n",
              "\n",
              "    [theme=dark] .colab-df-convert:hover {\n",
              "      background-color: #434B5C;\n",
              "      box-shadow: 0px 1px 3px 1px rgba(0, 0, 0, 0.15);\n",
              "      filter: drop-shadow(0px 1px 2px rgba(0, 0, 0, 0.3));\n",
              "      fill: #FFFFFF;\n",
              "    }\n",
              "  </style>\n",
              "\n",
              "      <script>\n",
              "        const buttonEl =\n",
              "          document.querySelector('#df-35e49d67-b924-4544-a50a-feefa87e7ce2 button.colab-df-convert');\n",
              "        buttonEl.style.display =\n",
              "          google.colab.kernel.accessAllowed ? 'block' : 'none';\n",
              "\n",
              "        async function convertToInteractive(key) {\n",
              "          const element = document.querySelector('#df-35e49d67-b924-4544-a50a-feefa87e7ce2');\n",
              "          const dataTable =\n",
              "            await google.colab.kernel.invokeFunction('convertToInteractive',\n",
              "                                                     [key], {});\n",
              "          if (!dataTable) return;\n",
              "\n",
              "          const docLinkHtml = 'Like what you see? Visit the ' +\n",
              "            '<a target=\"_blank\" href=https://colab.research.google.com/notebooks/data_table.ipynb>data table notebook</a>'\n",
              "            + ' to learn more about interactive tables.';\n",
              "          element.innerHTML = '';\n",
              "          dataTable['output_type'] = 'display_data';\n",
              "          await google.colab.output.renderOutput(dataTable, element);\n",
              "          const docLink = document.createElement('div');\n",
              "          docLink.innerHTML = docLinkHtml;\n",
              "          element.appendChild(docLink);\n",
              "        }\n",
              "      </script>\n",
              "    </div>\n",
              "  </div>\n",
              "  "
            ]
          },
          "metadata": {},
          "execution_count": 2
        }
      ]
    },
    {
      "cell_type": "markdown",
      "source": [
        "From these results we can find out the first few rows of the DataFrame. ie there is open, high, close, low, adj close and volume;\n",
        "1. Open is the opening price\n",
        "2. High is the highest transaction price on that day\n",
        "3. Low is the lowest transaction price on that day\n",
        "4. Close is the Closing Price\n",
        "5. Adj Close is an accurate Closing price\n",
        "6. Volume is the closing price of shares that has been amended to include any distribution/corporate action that occurs before the next opening day\n",
        "\n"
      ],
      "metadata": {
        "id": "Xr7CG11RoSWX"
      }
    },
    {
      "cell_type": "markdown",
      "source": [
        "**Check missing values**"
      ],
      "metadata": {
        "id": "YJuRYmM00AJv"
      }
    },
    {
      "cell_type": "code",
      "source": [
        "train_data.info()"
      ],
      "metadata": {
        "colab": {
          "base_uri": "https://localhost:8080/"
        },
        "id": "xvG658HJ0CJk",
        "outputId": "230d74ec-370a-48b5-e711-4b046adb61df"
      },
      "execution_count": null,
      "outputs": [
        {
          "output_type": "stream",
          "name": "stdout",
          "text": [
            "<class 'pandas.core.frame.DataFrame'>\n",
            "RangeIndex: 1761 entries, 0 to 1760\n",
            "Data columns (total 7 columns):\n",
            " #   Column     Non-Null Count  Dtype  \n",
            "---  ------     --------------  -----  \n",
            " 0   Date       1761 non-null   object \n",
            " 1   Open       1761 non-null   float64\n",
            " 2   High       1761 non-null   float64\n",
            " 3   Low        1761 non-null   float64\n",
            " 4   Close      1761 non-null   float64\n",
            " 5   Adj Close  1761 non-null   float64\n",
            " 6   Volume     1761 non-null   int64  \n",
            "dtypes: float64(5), int64(1), object(1)\n",
            "memory usage: 96.4+ KB\n"
          ]
        }
      ]
    },
    {
      "cell_type": "markdown",
      "source": [
        "- train.info pada dataset Microsoft tidak mempunyai missing value Karena semua panjang data nya sama\n",
        "- (train.info in the Microsoft dataset doesn't have a missing value because all the data lengths are the same)"
      ],
      "metadata": {
        "id": "CA-lh0B1pUYo"
      }
    },
    {
      "cell_type": "markdown",
      "source": [
        "**Check statistic vales for every features**"
      ],
      "metadata": {
        "id": "Jmz1TgoV0IFn"
      }
    },
    {
      "cell_type": "markdown",
      "source": [
        "- train_data.describe() digunakan untuk mengecek nilai median, mean,std,nilai min dan max serta persetase dari 25%, 50%, & 75%. misalnya untuk nilai count Open sebagai opening prices sebesar 1761.000000 untuk opening price,  rata rata untuk harga pembukaan sebesar 124.667956,dengan standar deviasi 79.037039, dengan minimal harga pembukaa 40.340000 dan Nilai maksimum harga pembukaan sebesar 344.619995, dengan masing masing percentage 25%,50%,75% yaitu 57.880001,101.099998, dan 174.110001, untuk  nilai high, low, close, adj close Dan volume pada datasets Microsoft ini dapat dilihat dibawah ini:\n",
        "- train_data.describe() is used to check the median, mean, std, min and max values and percentages of 25%, 50%, & 75%. for example, for the Open count value as opening prices of 1761.000000 for the opening price, the average for the opening price is 124.667956, with a standard deviation of 79.037039, with a minimum opening price of 40.340000 and a maximum opening price of 344.619995, with a percentage of 25%, 50% each, 75%, namely 57.880001,101.099998, and 174.110001, for high, low, close, adj close and volume values in Microsoft datasets can be seen below:"
      ],
      "metadata": {
        "id": "lXieLbnQprKL"
      }
    },
    {
      "cell_type": "code",
      "source": [
        "train_data.describe()"
      ],
      "metadata": {
        "colab": {
          "base_uri": "https://localhost:8080/",
          "height": 300
        },
        "id": "uOvHbZV90Fee",
        "outputId": "5f02471a-76c9-4e20-b9bd-af2c80182917"
      },
      "execution_count": null,
      "outputs": [
        {
          "output_type": "execute_result",
          "data": {
            "text/plain": [
              "              Open         High          Low        Close    Adj Close  \\\n",
              "count  1761.000000  1761.000000  1761.000000  1761.000000  1761.000000   \n",
              "mean    124.677956   125.841812   123.491261   124.746269   121.222532   \n",
              "std      79.037039    79.783672    78.305072    79.115307    80.389635   \n",
              "min      40.340000    40.740002    39.720001    40.290001    35.590923   \n",
              "25%      57.880001    58.090000    57.450001    57.889999    53.343620   \n",
              "50%     101.099998   101.860001    99.629997   101.120003    97.076530   \n",
              "75%     174.110001   175.059998   170.820007   174.050003   171.117706   \n",
              "max     344.619995   349.670013   342.200012   343.109985   343.109985   \n",
              "\n",
              "             Volume  \n",
              "count  1.761000e+03  \n",
              "mean   2.991662e+07  \n",
              "std    1.416212e+07  \n",
              "min    7.425600e+06  \n",
              "25%    2.138430e+07  \n",
              "50%    2.640770e+07  \n",
              "75%    3.397970e+07  \n",
              "max    1.691640e+08  "
            ],
            "text/html": [
              "\n",
              "  <div id=\"df-9f8a4ea2-c952-4f47-925b-2d915516a0a7\">\n",
              "    <div class=\"colab-df-container\">\n",
              "      <div>\n",
              "<style scoped>\n",
              "    .dataframe tbody tr th:only-of-type {\n",
              "        vertical-align: middle;\n",
              "    }\n",
              "\n",
              "    .dataframe tbody tr th {\n",
              "        vertical-align: top;\n",
              "    }\n",
              "\n",
              "    .dataframe thead th {\n",
              "        text-align: right;\n",
              "    }\n",
              "</style>\n",
              "<table border=\"1\" class=\"dataframe\">\n",
              "  <thead>\n",
              "    <tr style=\"text-align: right;\">\n",
              "      <th></th>\n",
              "      <th>Open</th>\n",
              "      <th>High</th>\n",
              "      <th>Low</th>\n",
              "      <th>Close</th>\n",
              "      <th>Adj Close</th>\n",
              "      <th>Volume</th>\n",
              "    </tr>\n",
              "  </thead>\n",
              "  <tbody>\n",
              "    <tr>\n",
              "      <th>count</th>\n",
              "      <td>1761.000000</td>\n",
              "      <td>1761.000000</td>\n",
              "      <td>1761.000000</td>\n",
              "      <td>1761.000000</td>\n",
              "      <td>1761.000000</td>\n",
              "      <td>1.761000e+03</td>\n",
              "    </tr>\n",
              "    <tr>\n",
              "      <th>mean</th>\n",
              "      <td>124.677956</td>\n",
              "      <td>125.841812</td>\n",
              "      <td>123.491261</td>\n",
              "      <td>124.746269</td>\n",
              "      <td>121.222532</td>\n",
              "      <td>2.991662e+07</td>\n",
              "    </tr>\n",
              "    <tr>\n",
              "      <th>std</th>\n",
              "      <td>79.037039</td>\n",
              "      <td>79.783672</td>\n",
              "      <td>78.305072</td>\n",
              "      <td>79.115307</td>\n",
              "      <td>80.389635</td>\n",
              "      <td>1.416212e+07</td>\n",
              "    </tr>\n",
              "    <tr>\n",
              "      <th>min</th>\n",
              "      <td>40.340000</td>\n",
              "      <td>40.740002</td>\n",
              "      <td>39.720001</td>\n",
              "      <td>40.290001</td>\n",
              "      <td>35.590923</td>\n",
              "      <td>7.425600e+06</td>\n",
              "    </tr>\n",
              "    <tr>\n",
              "      <th>25%</th>\n",
              "      <td>57.880001</td>\n",
              "      <td>58.090000</td>\n",
              "      <td>57.450001</td>\n",
              "      <td>57.889999</td>\n",
              "      <td>53.343620</td>\n",
              "      <td>2.138430e+07</td>\n",
              "    </tr>\n",
              "    <tr>\n",
              "      <th>50%</th>\n",
              "      <td>101.099998</td>\n",
              "      <td>101.860001</td>\n",
              "      <td>99.629997</td>\n",
              "      <td>101.120003</td>\n",
              "      <td>97.076530</td>\n",
              "      <td>2.640770e+07</td>\n",
              "    </tr>\n",
              "    <tr>\n",
              "      <th>75%</th>\n",
              "      <td>174.110001</td>\n",
              "      <td>175.059998</td>\n",
              "      <td>170.820007</td>\n",
              "      <td>174.050003</td>\n",
              "      <td>171.117706</td>\n",
              "      <td>3.397970e+07</td>\n",
              "    </tr>\n",
              "    <tr>\n",
              "      <th>max</th>\n",
              "      <td>344.619995</td>\n",
              "      <td>349.670013</td>\n",
              "      <td>342.200012</td>\n",
              "      <td>343.109985</td>\n",
              "      <td>343.109985</td>\n",
              "      <td>1.691640e+08</td>\n",
              "    </tr>\n",
              "  </tbody>\n",
              "</table>\n",
              "</div>\n",
              "      <button class=\"colab-df-convert\" onclick=\"convertToInteractive('df-9f8a4ea2-c952-4f47-925b-2d915516a0a7')\"\n",
              "              title=\"Convert this dataframe to an interactive table.\"\n",
              "              style=\"display:none;\">\n",
              "        \n",
              "  <svg xmlns=\"http://www.w3.org/2000/svg\" height=\"24px\"viewBox=\"0 0 24 24\"\n",
              "       width=\"24px\">\n",
              "    <path d=\"M0 0h24v24H0V0z\" fill=\"none\"/>\n",
              "    <path d=\"M18.56 5.44l.94 2.06.94-2.06 2.06-.94-2.06-.94-.94-2.06-.94 2.06-2.06.94zm-11 1L8.5 8.5l.94-2.06 2.06-.94-2.06-.94L8.5 2.5l-.94 2.06-2.06.94zm10 10l.94 2.06.94-2.06 2.06-.94-2.06-.94-.94-2.06-.94 2.06-2.06.94z\"/><path d=\"M17.41 7.96l-1.37-1.37c-.4-.4-.92-.59-1.43-.59-.52 0-1.04.2-1.43.59L10.3 9.45l-7.72 7.72c-.78.78-.78 2.05 0 2.83L4 21.41c.39.39.9.59 1.41.59.51 0 1.02-.2 1.41-.59l7.78-7.78 2.81-2.81c.8-.78.8-2.07 0-2.86zM5.41 20L4 18.59l7.72-7.72 1.47 1.35L5.41 20z\"/>\n",
              "  </svg>\n",
              "      </button>\n",
              "      \n",
              "  <style>\n",
              "    .colab-df-container {\n",
              "      display:flex;\n",
              "      flex-wrap:wrap;\n",
              "      gap: 12px;\n",
              "    }\n",
              "\n",
              "    .colab-df-convert {\n",
              "      background-color: #E8F0FE;\n",
              "      border: none;\n",
              "      border-radius: 50%;\n",
              "      cursor: pointer;\n",
              "      display: none;\n",
              "      fill: #1967D2;\n",
              "      height: 32px;\n",
              "      padding: 0 0 0 0;\n",
              "      width: 32px;\n",
              "    }\n",
              "\n",
              "    .colab-df-convert:hover {\n",
              "      background-color: #E2EBFA;\n",
              "      box-shadow: 0px 1px 2px rgba(60, 64, 67, 0.3), 0px 1px 3px 1px rgba(60, 64, 67, 0.15);\n",
              "      fill: #174EA6;\n",
              "    }\n",
              "\n",
              "    [theme=dark] .colab-df-convert {\n",
              "      background-color: #3B4455;\n",
              "      fill: #D2E3FC;\n",
              "    }\n",
              "\n",
              "    [theme=dark] .colab-df-convert:hover {\n",
              "      background-color: #434B5C;\n",
              "      box-shadow: 0px 1px 3px 1px rgba(0, 0, 0, 0.15);\n",
              "      filter: drop-shadow(0px 1px 2px rgba(0, 0, 0, 0.3));\n",
              "      fill: #FFFFFF;\n",
              "    }\n",
              "  </style>\n",
              "\n",
              "      <script>\n",
              "        const buttonEl =\n",
              "          document.querySelector('#df-9f8a4ea2-c952-4f47-925b-2d915516a0a7 button.colab-df-convert');\n",
              "        buttonEl.style.display =\n",
              "          google.colab.kernel.accessAllowed ? 'block' : 'none';\n",
              "\n",
              "        async function convertToInteractive(key) {\n",
              "          const element = document.querySelector('#df-9f8a4ea2-c952-4f47-925b-2d915516a0a7');\n",
              "          const dataTable =\n",
              "            await google.colab.kernel.invokeFunction('convertToInteractive',\n",
              "                                                     [key], {});\n",
              "          if (!dataTable) return;\n",
              "\n",
              "          const docLinkHtml = 'Like what you see? Visit the ' +\n",
              "            '<a target=\"_blank\" href=https://colab.research.google.com/notebooks/data_table.ipynb>data table notebook</a>'\n",
              "            + ' to learn more about interactive tables.';\n",
              "          element.innerHTML = '';\n",
              "          dataTable['output_type'] = 'display_data';\n",
              "          await google.colab.output.renderOutput(dataTable, element);\n",
              "          const docLink = document.createElement('div');\n",
              "          docLink.innerHTML = docLinkHtml;\n",
              "          element.appendChild(docLink);\n",
              "        }\n",
              "      </script>\n",
              "    </div>\n",
              "  </div>\n",
              "  "
            ]
          },
          "metadata": {},
          "execution_count": 4
        }
      ]
    },
    {
      "cell_type": "markdown",
      "source": [
        "**Handle datetime data for time series**"
      ],
      "metadata": {
        "id": "ckKHDQv80S2S"
      }
    },
    {
      "cell_type": "markdown",
      "source": [
        "- time series berkaitan dengan datetime Dan dijadikan sebagai acuannya. Sehingga train_data['Date'] digunakan untuk menambahkan tabel date pada table sebelumnya agar ketika ditraining maka otomatis akan terbaca data date. Kemudian dijadikan index dimana bentuknya yaitu hari, bulan & tahun.\n",
        "- (time series is related to datetime and is used as a reference. So train_data['Date'] is used to add a date table to the previous table so that when trained it will automatically read the data date. Then it is used as an index where the form is day, month & year)."
      ],
      "metadata": {
        "id": "5yVoNyVVwuH2"
      }
    },
    {
      "cell_type": "code",
      "source": [
        "train_data['Date'] = pd.to_datetime(train_data['Date'])\n",
        "train_data.set_index('Date', inplace=True)\n",
        "train_data.head()"
      ],
      "metadata": {
        "colab": {
          "base_uri": "https://localhost:8080/",
          "height": 237
        },
        "id": "V7gBtJvZ0SUZ",
        "outputId": "e728457b-b5ba-4594-d25d-f4c55b166ee8"
      },
      "execution_count": null,
      "outputs": [
        {
          "output_type": "execute_result",
          "data": {
            "text/plain": [
              "                 Open       High        Low      Close  Adj Close    Volume\n",
              "Date                                                                       \n",
              "2015-01-02  46.660000  47.419998  46.540001  46.759998  41.193840  27913900\n",
              "2015-01-05  46.369999  46.730000  46.250000  46.330002  40.815037  39673900\n",
              "2015-01-06  46.380001  46.750000  45.540001  45.650002  40.215973  36447900\n",
              "2015-01-07  45.980000  46.459999  45.490002  46.230000  40.726925  29114100\n",
              "2015-01-08  46.750000  47.750000  46.720001  47.590000  41.925045  29645200"
            ],
            "text/html": [
              "\n",
              "  <div id=\"df-140df3d0-1ef4-4260-8edd-b3fa37001d17\">\n",
              "    <div class=\"colab-df-container\">\n",
              "      <div>\n",
              "<style scoped>\n",
              "    .dataframe tbody tr th:only-of-type {\n",
              "        vertical-align: middle;\n",
              "    }\n",
              "\n",
              "    .dataframe tbody tr th {\n",
              "        vertical-align: top;\n",
              "    }\n",
              "\n",
              "    .dataframe thead th {\n",
              "        text-align: right;\n",
              "    }\n",
              "</style>\n",
              "<table border=\"1\" class=\"dataframe\">\n",
              "  <thead>\n",
              "    <tr style=\"text-align: right;\">\n",
              "      <th></th>\n",
              "      <th>Open</th>\n",
              "      <th>High</th>\n",
              "      <th>Low</th>\n",
              "      <th>Close</th>\n",
              "      <th>Adj Close</th>\n",
              "      <th>Volume</th>\n",
              "    </tr>\n",
              "    <tr>\n",
              "      <th>Date</th>\n",
              "      <th></th>\n",
              "      <th></th>\n",
              "      <th></th>\n",
              "      <th></th>\n",
              "      <th></th>\n",
              "      <th></th>\n",
              "    </tr>\n",
              "  </thead>\n",
              "  <tbody>\n",
              "    <tr>\n",
              "      <th>2015-01-02</th>\n",
              "      <td>46.660000</td>\n",
              "      <td>47.419998</td>\n",
              "      <td>46.540001</td>\n",
              "      <td>46.759998</td>\n",
              "      <td>41.193840</td>\n",
              "      <td>27913900</td>\n",
              "    </tr>\n",
              "    <tr>\n",
              "      <th>2015-01-05</th>\n",
              "      <td>46.369999</td>\n",
              "      <td>46.730000</td>\n",
              "      <td>46.250000</td>\n",
              "      <td>46.330002</td>\n",
              "      <td>40.815037</td>\n",
              "      <td>39673900</td>\n",
              "    </tr>\n",
              "    <tr>\n",
              "      <th>2015-01-06</th>\n",
              "      <td>46.380001</td>\n",
              "      <td>46.750000</td>\n",
              "      <td>45.540001</td>\n",
              "      <td>45.650002</td>\n",
              "      <td>40.215973</td>\n",
              "      <td>36447900</td>\n",
              "    </tr>\n",
              "    <tr>\n",
              "      <th>2015-01-07</th>\n",
              "      <td>45.980000</td>\n",
              "      <td>46.459999</td>\n",
              "      <td>45.490002</td>\n",
              "      <td>46.230000</td>\n",
              "      <td>40.726925</td>\n",
              "      <td>29114100</td>\n",
              "    </tr>\n",
              "    <tr>\n",
              "      <th>2015-01-08</th>\n",
              "      <td>46.750000</td>\n",
              "      <td>47.750000</td>\n",
              "      <td>46.720001</td>\n",
              "      <td>47.590000</td>\n",
              "      <td>41.925045</td>\n",
              "      <td>29645200</td>\n",
              "    </tr>\n",
              "  </tbody>\n",
              "</table>\n",
              "</div>\n",
              "      <button class=\"colab-df-convert\" onclick=\"convertToInteractive('df-140df3d0-1ef4-4260-8edd-b3fa37001d17')\"\n",
              "              title=\"Convert this dataframe to an interactive table.\"\n",
              "              style=\"display:none;\">\n",
              "        \n",
              "  <svg xmlns=\"http://www.w3.org/2000/svg\" height=\"24px\"viewBox=\"0 0 24 24\"\n",
              "       width=\"24px\">\n",
              "    <path d=\"M0 0h24v24H0V0z\" fill=\"none\"/>\n",
              "    <path d=\"M18.56 5.44l.94 2.06.94-2.06 2.06-.94-2.06-.94-.94-2.06-.94 2.06-2.06.94zm-11 1L8.5 8.5l.94-2.06 2.06-.94-2.06-.94L8.5 2.5l-.94 2.06-2.06.94zm10 10l.94 2.06.94-2.06 2.06-.94-2.06-.94-.94-2.06-.94 2.06-2.06.94z\"/><path d=\"M17.41 7.96l-1.37-1.37c-.4-.4-.92-.59-1.43-.59-.52 0-1.04.2-1.43.59L10.3 9.45l-7.72 7.72c-.78.78-.78 2.05 0 2.83L4 21.41c.39.39.9.59 1.41.59.51 0 1.02-.2 1.41-.59l7.78-7.78 2.81-2.81c.8-.78.8-2.07 0-2.86zM5.41 20L4 18.59l7.72-7.72 1.47 1.35L5.41 20z\"/>\n",
              "  </svg>\n",
              "      </button>\n",
              "      \n",
              "  <style>\n",
              "    .colab-df-container {\n",
              "      display:flex;\n",
              "      flex-wrap:wrap;\n",
              "      gap: 12px;\n",
              "    }\n",
              "\n",
              "    .colab-df-convert {\n",
              "      background-color: #E8F0FE;\n",
              "      border: none;\n",
              "      border-radius: 50%;\n",
              "      cursor: pointer;\n",
              "      display: none;\n",
              "      fill: #1967D2;\n",
              "      height: 32px;\n",
              "      padding: 0 0 0 0;\n",
              "      width: 32px;\n",
              "    }\n",
              "\n",
              "    .colab-df-convert:hover {\n",
              "      background-color: #E2EBFA;\n",
              "      box-shadow: 0px 1px 2px rgba(60, 64, 67, 0.3), 0px 1px 3px 1px rgba(60, 64, 67, 0.15);\n",
              "      fill: #174EA6;\n",
              "    }\n",
              "\n",
              "    [theme=dark] .colab-df-convert {\n",
              "      background-color: #3B4455;\n",
              "      fill: #D2E3FC;\n",
              "    }\n",
              "\n",
              "    [theme=dark] .colab-df-convert:hover {\n",
              "      background-color: #434B5C;\n",
              "      box-shadow: 0px 1px 3px 1px rgba(0, 0, 0, 0.15);\n",
              "      filter: drop-shadow(0px 1px 2px rgba(0, 0, 0, 0.3));\n",
              "      fill: #FFFFFF;\n",
              "    }\n",
              "  </style>\n",
              "\n",
              "      <script>\n",
              "        const buttonEl =\n",
              "          document.querySelector('#df-140df3d0-1ef4-4260-8edd-b3fa37001d17 button.colab-df-convert');\n",
              "        buttonEl.style.display =\n",
              "          google.colab.kernel.accessAllowed ? 'block' : 'none';\n",
              "\n",
              "        async function convertToInteractive(key) {\n",
              "          const element = document.querySelector('#df-140df3d0-1ef4-4260-8edd-b3fa37001d17');\n",
              "          const dataTable =\n",
              "            await google.colab.kernel.invokeFunction('convertToInteractive',\n",
              "                                                     [key], {});\n",
              "          if (!dataTable) return;\n",
              "\n",
              "          const docLinkHtml = 'Like what you see? Visit the ' +\n",
              "            '<a target=\"_blank\" href=https://colab.research.google.com/notebooks/data_table.ipynb>data table notebook</a>'\n",
              "            + ' to learn more about interactive tables.';\n",
              "          element.innerHTML = '';\n",
              "          dataTable['output_type'] = 'display_data';\n",
              "          await google.colab.output.renderOutput(dataTable, element);\n",
              "          const docLink = document.createElement('div');\n",
              "          docLink.innerHTML = docLinkHtml;\n",
              "          element.appendChild(docLink);\n",
              "        }\n",
              "      </script>\n",
              "    </div>\n",
              "  </div>\n",
              "  "
            ]
          },
          "metadata": {},
          "execution_count": 5
        }
      ]
    },
    {
      "cell_type": "markdown",
      "source": [
        "**EXPLORATORY DATA ANALYSIS**"
      ],
      "metadata": {
        "id": "jws0KgX027j6"
      }
    },
    {
      "cell_type": "markdown",
      "source": [
        "Now let’s visualise the Adjusted Close (Stock Price when market closed)"
      ],
      "metadata": {
        "id": "DU0XyTTV3Mpu"
      }
    },
    {
      "cell_type": "markdown",
      "source": [
        "- Dari plot dibawah ini dapat diketahui bahwa closing price yang terjadi dalam 7 tahun ini yaitu yang dimulai pada tahun 2015-2022 memiliki Trend nya naik atau memiliki kecendungan naik.\n",
        "- (From the plot below it can be seen that the closing prices that have occurred in the past 7 years starting in 2015-2022 have an upward trend or have an upward trend/ trend up.)"
      ],
      "metadata": {
        "id": "yPk0VmmNypR7"
      }
    },
    {
      "cell_type": "code",
      "source": [
        "plt.figure(figsize=(11, 8)) # resizing the plot\n",
        "train_data['Adj Close'].plot()\n",
        "plt.title('Closing Price History') # adding a title\n",
        "plt.xlabel('Date') # x label\n",
        "plt.ylabel('Closing Price') # y label\n",
        "plt.show()"
      ],
      "metadata": {
        "colab": {
          "base_uri": "https://localhost:8080/",
          "height": 662
        },
        "id": "OJ8xCxoDp5EG",
        "outputId": "16faa974-ead9-4e11-dec0-9ff1b36ec404"
      },
      "execution_count": null,
      "outputs": [
        {
          "output_type": "display_data",
          "data": {
            "text/plain": [
              "<Figure size 1100x800 with 1 Axes>"
            ],
            "image/png": "[encoded data removed]"
          },
          "metadata": {}
        }
      ]
    },
    {
      "cell_type": "markdown",
      "source": [
        "- Mengecek trend untuk data 'Open', 'Close', 'Volume', 'High', 'Low' . Dimana pada diagram plot dibawah ini dapat kita lihat bahwa open,close,high Dan low juga memiliki kecenderungan atau trend yang naik. namun pada diagram plot untuk data volume datanya mengalami naik turun.\n",
        "- (check trend for data 'Open', 'Close', 'Volume', 'High', 'Low' . Where in the plot diagram below we can see that open, close, high and low also have an upward trend or trend. but in the plot diagram for the data the volume of the data fluctuates.)"
      ],
      "metadata": {
        "id": "erK_BY3M0A6s"
      }
    },
    {
      "cell_type": "code",
      "source": [
        "plt.figure(figsize=(16, 8)) # resizing the plot\n",
        "cols = ['Open', 'Close', 'Volume', 'High', 'Low']\n",
        "axes = train_data[cols].plot(figsize=(11, 9), subplots = True)\n",
        "plt.show()"
      ],
      "metadata": {
        "id": "Dpu_Goeaqgb5",
        "colab": {
          "base_uri": "https://localhost:8080/",
          "height": 725
        },
        "outputId": "f7d2a2a5-2388-4728-a384-c14d6fdf4a38"
      },
      "execution_count": null,
      "outputs": [
        {
          "output_type": "display_data",
          "data": {
            "text/plain": [
              "<Figure size 1600x800 with 0 Axes>"
            ]
          },
          "metadata": {}
        },
        {
          "output_type": "display_data",
          "data": {
            "text/plain": [
              "<Figure size 1100x900 with 5 Axes>"
            ],
            "image/png": "[encoded data removed]"
          },
          "metadata": {}
        }
      ]
    },
    {
      "cell_type": "markdown",
      "source": [
        "- Coding dibwah ini digunakan untuk membaca harga terendah dan harga tertinggi dan membaca harga penutupan dan pembukaannya. Membuatnya dalam bentuk persentasenya yang kemudian akan dimasukkan kedalam dataset nya.\n",
        "- (The coding below is used to read the lowest and highest prices and read the closing and opening prices. Make it in the form of a percentage which will then be included in the dataset.)"
      ],
      "metadata": {
        "id": "Icll9iTs2zce"
      }
    },
    {
      "cell_type": "code",
      "source": [
        "train_data['HL_PCT'] = (train_data['High'] - train_data['Low']) / train_data['Low'] * 100.0\n",
        "train_data['PCT_change'] = (train_data['Close'] - train_data['Open']) / train_data['Open'] * 100.0"
      ],
      "metadata": {
        "id": "AfhNMGBi-qaC"
      },
      "execution_count": null,
      "outputs": []
    },
    {
      "cell_type": "code",
      "source": [
        "df = train_data[['HL_PCT', 'PCT_change', 'Adj Close','Volume']]"
      ],
      "metadata": {
        "id": "Tpr_qGGBpW_O"
      },
      "execution_count": null,
      "outputs": []
    },
    {
      "cell_type": "markdown",
      "source": [
        "- pada coding diwah ini harga penutupan saham dijadikan sebagai label untuk melakukan forecasting\n",
        "- in the coding below, the closing price of the stock is used as a label for forecasting"
      ],
      "metadata": {
        "id": "MrenEUIp4TYe"
      }
    },
    {
      "cell_type": "code",
      "source": [
        "forecast_out = int(math.ceil(0.05 * len(df))) # forcasting out 5% of the entire dataset\n",
        "print(forecast_out)\n",
        "df['label'] = df['Adj Close'].shift(-forecast_out)"
      ],
      "metadata": {
        "colab": {
          "base_uri": "https://localhost:8080/"
        },
        "id": "byohkejgqUxI",
        "outputId": "d2ac2113-5371-4b7c-a124-5b40d73fd3b7"
      },
      "execution_count": null,
      "outputs": [
        {
          "output_type": "stream",
          "name": "stdout",
          "text": [
            "89\n"
          ]
        },
        {
          "output_type": "stream",
          "name": "stderr",
          "text": [
            "<ipython-input-10-8a15e8de9d0b>:3: SettingWithCopyWarning: \n",
            "A value is trying to be set on a copy of a slice from a DataFrame.\n",
            "Try using .loc[row_indexer,col_indexer] = value instead\n",
            "\n",
            "See the caveats in the documentation: https://pandas.pydata.org/pandas-docs/stable/user_guide/indexing.html#returning-a-view-versus-a-copy\n",
            "  df['label'] = df['Adj Close'].shift(-forecast_out)\n"
          ]
        }
      ]
    },
    {
      "cell_type": "markdown",
      "source": [
        "Mengimpor Library untuk modelnya"
      ],
      "metadata": {
        "id": "Yi_wLA0c4_Ec"
      }
    },
    {
      "cell_type": "code",
      "source": [
        "from sklearn.preprocessing import StandardScaler\n",
        "from sklearn.linear_model import LinearRegression, Ridge\n",
        "from sklearn.ensemble import RandomForestRegressor\n",
        "from sklearn.svm import SVR\n",
        "from sklearn.model_selection import train_test_split\n",
        "from sklearn.metrics import mean_squared_log_error"
      ],
      "metadata": {
        "id": "irMFwvfUQfkX"
      },
      "execution_count": null,
      "outputs": []
    },
    {
      "cell_type": "markdown",
      "source": [
        "It’s clear from the plot that there is an overall increase in the trend,with some seasonality in it."
      ],
      "metadata": {
        "id": "CEWA8nGgDCfG"
      }
    },
    {
      "cell_type": "markdown",
      "source": [
        "- scaler untuk normalisasi data karena datanya memiki ukuran yang berbeda dan intervalnya cukup jauh yaitu berkisar ribuan, ratus ribuan. hal ini  digunakan agar harga range nya tidak terlalu jauh atau lama.\n",
        "- scaler for data normalization because the data has different sizes and the intervals are quite far, namely around thousands, hundreds of thousands. this is used so that the price range is not too far or long."
      ],
      "metadata": {
        "id": "M_q9o6n85b7W"
      }
    },
    {
      "cell_type": "code",
      "source": [
        "scaler = StandardScaler()\n",
        "X = np.array(df.drop(['label'], 1))\n",
        "scaler.fit(X)\n",
        "X = scaler.transform(X)"
      ],
      "metadata": {
        "id": "mpgmCvavV8oD",
        "colab": {
          "base_uri": "https://localhost:8080/"
        },
        "outputId": "00ff217a-0b30-49ba-e761-5cb706dce40b"
      },
      "execution_count": null,
      "outputs": [
        {
          "output_type": "stream",
          "name": "stderr",
          "text": [
            "<ipython-input-12-7ce179678b12>:2: FutureWarning: In a future version of pandas all arguments of DataFrame.drop except for the argument 'labels' will be keyword-only.\n",
            "  X = np.array(df.drop(['label'], 1))\n"
          ]
        }
      ]
    },
    {
      "cell_type": "markdown",
      "source": [
        "- Melakukan slicing dengan menentukan x Dan y dimana y diambil dari data label\n",
        "- Doing slicing by determining x and y where y is taken from the label data"
      ],
      "metadata": {
        "id": "Y8H9hGJs7BPU"
      }
    },
    {
      "cell_type": "code",
      "source": [
        "X_Predictions = X[-forecast_out:] # data to be predicted\n",
        "X = X[:-forecast_out] # data to be trained"
      ],
      "metadata": {
        "id": "ClQ0ncGKDYqg"
      },
      "execution_count": null,
      "outputs": []
    },
    {
      "cell_type": "code",
      "source": [
        "df.dropna(inplace=True)\n",
        "y = np.array(df['label'])"
      ],
      "metadata": {
        "colab": {
          "base_uri": "https://localhost:8080/"
        },
        "id": "wG1mOmKuV_Te",
        "outputId": "7d995084-6246-4923-f551-9c85610970e3"
      },
      "execution_count": null,
      "outputs": [
        {
          "output_type": "stream",
          "name": "stderr",
          "text": [
            "<ipython-input-14-c3da9adb30d1>:1: SettingWithCopyWarning: \n",
            "A value is trying to be set on a copy of a slice from a DataFrame\n",
            "\n",
            "See the caveats in the documentation: https://pandas.pydata.org/pandas-docs/stable/user_guide/indexing.html#returning-a-view-versus-a-copy\n",
            "  df.dropna(inplace=True)\n"
          ]
        }
      ]
    },
    {
      "cell_type": "markdown",
      "source": [
        "- Melakukan splitting untuk train dan testnya menggunakan  2 model yaitu LinearRegression dan RandomForest\n",
        "- Doing splitting for train and test using 2 models, namely LinearRegression and RandomForest"
      ],
      "metadata": {
        "id": "QnbATFMN7m3O"
      }
    },
    {
      "cell_type": "code",
      "source": [
        "X_train, X_test, y_train, y_test = train_test_split(X, y, test_size=0.2, random_state=42)"
      ],
      "metadata": {
        "id": "8D31iOX2EVAA"
      },
      "execution_count": null,
      "outputs": []
    },
    {
      "cell_type": "code",
      "source": [
        "lr = LinearRegression()\n",
        "lr.fit(X_train, y_train)\n",
        "lr_confidence = lr.score(X_test, y_test)"
      ],
      "metadata": {
        "id": "yQXA0ZBuFLKW"
      },
      "execution_count": null,
      "outputs": []
    },
    {
      "cell_type": "code",
      "source": [
        "rf = RandomForestRegressor()\n",
        "rf.fit(X_train, y_train)\n",
        "rf_confidence = rf.score(X_test, y_test)"
      ],
      "metadata": {
        "id": "VLP373_GFaKk"
      },
      "execution_count": null,
      "outputs": []
    },
    {
      "cell_type": "markdown",
      "source": [
        "Melakukan train dengan 86400 detik"
      ],
      "metadata": {
        "id": "aCem8vOf87Ij"
      }
    },
    {
      "cell_type": "code",
      "source": [
        "last_date = df.index[-1] #getting the lastdate in the dataset\n",
        "last_unix = last_date.timestamp() #converting it to time in seconds\n",
        "one_day = 86400 #one day equals 86400 seconds\n",
        "next_unix = last_unix + one_day # getting the time in seconds for the next day\n",
        "forecast_set = rf.predict(X_Predictions) # predicting forecast data\n",
        "df['Forecast'] = np.nan\n",
        "for i in forecast_set:\n",
        "    next_date = datetime.datetime.fromtimestamp(next_unix)\n",
        "    next_unix += 86400\n",
        "    df.loc[next_date] = [np.nan for _ in range(len(df.columns)-1)]+[i]"
      ],
      "metadata": {
        "colab": {
          "base_uri": "https://localhost:8080/"
        },
        "id": "3B4Ln3KaWKYP",
        "outputId": "9406945f-10d3-4af6-ff19-a6dec3aff59a"
      },
      "execution_count": null,
      "outputs": [
        {
          "output_type": "stream",
          "name": "stderr",
          "text": [
            "<ipython-input-18-3eb2aa88d409>:6: SettingWithCopyWarning: \n",
            "A value is trying to be set on a copy of a slice from a DataFrame.\n",
            "Try using .loc[row_indexer,col_indexer] = value instead\n",
            "\n",
            "See the caveats in the documentation: https://pandas.pydata.org/pandas-docs/stable/user_guide/indexing.html#returning-a-view-versus-a-copy\n",
            "  df['Forecast'] = np.nan\n",
            "<ipython-input-18-3eb2aa88d409>:10: SettingWithCopyWarning: \n",
            "A value is trying to be set on a copy of a slice from a DataFrame\n",
            "\n",
            "See the caveats in the documentation: https://pandas.pydata.org/pandas-docs/stable/user_guide/indexing.html#returning-a-view-versus-a-copy\n",
            "  df.loc[next_date] = [np.nan for _ in range(len(df.columns)-1)]+[i]\n",
            "<ipython-input-18-3eb2aa88d409>:10: SettingWithCopyWarning: \n",
            "A value is trying to be set on a copy of a slice from a DataFrame\n",
            "\n",
            "See the caveats in the documentation: https://pandas.pydata.org/pandas-docs/stable/user_guide/indexing.html#returning-a-view-versus-a-copy\n",
            "  df.loc[next_date] = [np.nan for _ in range(len(df.columns)-1)]+[i]\n",
            "<ipython-input-18-3eb2aa88d409>:10: SettingWithCopyWarning: \n",
            "A value is trying to be set on a copy of a slice from a DataFrame\n",
            "\n",
            "See the caveats in the documentation: https://pandas.pydata.org/pandas-docs/stable/user_guide/indexing.html#returning-a-view-versus-a-copy\n",
            "  df.loc[next_date] = [np.nan for _ in range(len(df.columns)-1)]+[i]\n",
            "<ipython-input-18-3eb2aa88d409>:10: SettingWithCopyWarning: \n",
            "A value is trying to be set on a copy of a slice from a DataFrame\n",
            "\n",
            "See the caveats in the documentation: https://pandas.pydata.org/pandas-docs/stable/user_guide/indexing.html#returning-a-view-versus-a-copy\n",
            "  df.loc[next_date] = [np.nan for _ in range(len(df.columns)-1)]+[i]\n",
            "<ipython-input-18-3eb2aa88d409>:10: SettingWithCopyWarning: \n",
            "A value is trying to be set on a copy of a slice from a DataFrame\n",
            "\n",
            "See the caveats in the documentation: https://pandas.pydata.org/pandas-docs/stable/user_guide/indexing.html#returning-a-view-versus-a-copy\n",
            "  df.loc[next_date] = [np.nan for _ in range(len(df.columns)-1)]+[i]\n",
            "<ipython-input-18-3eb2aa88d409>:10: SettingWithCopyWarning: \n",
            "A value is trying to be set on a copy of a slice from a DataFrame\n",
            "\n",
            "See the caveats in the documentation: https://pandas.pydata.org/pandas-docs/stable/user_guide/indexing.html#returning-a-view-versus-a-copy\n",
            "  df.loc[next_date] = [np.nan for _ in range(len(df.columns)-1)]+[i]\n",
            "<ipython-input-18-3eb2aa88d409>:10: SettingWithCopyWarning: \n",
            "A value is trying to be set on a copy of a slice from a DataFrame\n",
            "\n",
            "See the caveats in the documentation: https://pandas.pydata.org/pandas-docs/stable/user_guide/indexing.html#returning-a-view-versus-a-copy\n",
            "  df.loc[next_date] = [np.nan for _ in range(len(df.columns)-1)]+[i]\n",
            "<ipython-input-18-3eb2aa88d409>:10: SettingWithCopyWarning: \n",
            "A value is trying to be set on a copy of a slice from a DataFrame\n",
            "\n",
            "See the caveats in the documentation: https://pandas.pydata.org/pandas-docs/stable/user_guide/indexing.html#returning-a-view-versus-a-copy\n",
            "  df.loc[next_date] = [np.nan for _ in range(len(df.columns)-1)]+[i]\n",
            "<ipython-input-18-3eb2aa88d409>:10: SettingWithCopyWarning: \n",
            "A value is trying to be set on a copy of a slice from a DataFrame\n",
            "\n",
            "See the caveats in the documentation: https://pandas.pydata.org/pandas-docs/stable/user_guide/indexing.html#returning-a-view-versus-a-copy\n",
            "  df.loc[next_date] = [np.nan for _ in range(len(df.columns)-1)]+[i]\n",
            "<ipython-input-18-3eb2aa88d409>:10: SettingWithCopyWarning: \n",
            "A value is trying to be set on a copy of a slice from a DataFrame\n",
            "\n",
            "See the caveats in the documentation: https://pandas.pydata.org/pandas-docs/stable/user_guide/indexing.html#returning-a-view-versus-a-copy\n",
            "  df.loc[next_date] = [np.nan for _ in range(len(df.columns)-1)]+[i]\n",
            "<ipython-input-18-3eb2aa88d409>:10: SettingWithCopyWarning: \n",
            "A value is trying to be set on a copy of a slice from a DataFrame\n",
            "\n",
            "See the caveats in the documentation: https://pandas.pydata.org/pandas-docs/stable/user_guide/indexing.html#returning-a-view-versus-a-copy\n",
            "  df.loc[next_date] = [np.nan for _ in range(len(df.columns)-1)]+[i]\n",
            "<ipython-input-18-3eb2aa88d409>:10: SettingWithCopyWarning: \n",
            "A value is trying to be set on a copy of a slice from a DataFrame\n",
            "\n",
            "See the caveats in the documentation: https://pandas.pydata.org/pandas-docs/stable/user_guide/indexing.html#returning-a-view-versus-a-copy\n",
            "  df.loc[next_date] = [np.nan for _ in range(len(df.columns)-1)]+[i]\n",
            "<ipython-input-18-3eb2aa88d409>:10: SettingWithCopyWarning: \n",
            "A value is trying to be set on a copy of a slice from a DataFrame\n",
            "\n",
            "See the caveats in the documentation: https://pandas.pydata.org/pandas-docs/stable/user_guide/indexing.html#returning-a-view-versus-a-copy\n",
            "  df.loc[next_date] = [np.nan for _ in range(len(df.columns)-1)]+[i]\n",
            "<ipython-input-18-3eb2aa88d409>:10: SettingWithCopyWarning: \n",
            "A value is trying to be set on a copy of a slice from a DataFrame\n",
            "\n",
            "See the caveats in the documentation: https://pandas.pydata.org/pandas-docs/stable/user_guide/indexing.html#returning-a-view-versus-a-copy\n",
            "  df.loc[next_date] = [np.nan for _ in range(len(df.columns)-1)]+[i]\n",
            "<ipython-input-18-3eb2aa88d409>:10: SettingWithCopyWarning: \n",
            "A value is trying to be set on a copy of a slice from a DataFrame\n",
            "\n",
            "See the caveats in the documentation: https://pandas.pydata.org/pandas-docs/stable/user_guide/indexing.html#returning-a-view-versus-a-copy\n",
            "  df.loc[next_date] = [np.nan for _ in range(len(df.columns)-1)]+[i]\n",
            "<ipython-input-18-3eb2aa88d409>:10: SettingWithCopyWarning: \n",
            "A value is trying to be set on a copy of a slice from a DataFrame\n",
            "\n",
            "See the caveats in the documentation: https://pandas.pydata.org/pandas-docs/stable/user_guide/indexing.html#returning-a-view-versus-a-copy\n",
            "  df.loc[next_date] = [np.nan for _ in range(len(df.columns)-1)]+[i]\n",
            "<ipython-input-18-3eb2aa88d409>:10: SettingWithCopyWarning: \n",
            "A value is trying to be set on a copy of a slice from a DataFrame\n",
            "\n",
            "See the caveats in the documentation: https://pandas.pydata.org/pandas-docs/stable/user_guide/indexing.html#returning-a-view-versus-a-copy\n",
            "  df.loc[next_date] = [np.nan for _ in range(len(df.columns)-1)]+[i]\n",
            "<ipython-input-18-3eb2aa88d409>:10: SettingWithCopyWarning: \n",
            "A value is trying to be set on a copy of a slice from a DataFrame\n",
            "\n",
            "See the caveats in the documentation: https://pandas.pydata.org/pandas-docs/stable/user_guide/indexing.html#returning-a-view-versus-a-copy\n",
            "  df.loc[next_date] = [np.nan for _ in range(len(df.columns)-1)]+[i]\n",
            "<ipython-input-18-3eb2aa88d409>:10: SettingWithCopyWarning: \n",
            "A value is trying to be set on a copy of a slice from a DataFrame\n",
            "\n",
            "See the caveats in the documentation: https://pandas.pydata.org/pandas-docs/stable/user_guide/indexing.html#returning-a-view-versus-a-copy\n",
            "  df.loc[next_date] = [np.nan for _ in range(len(df.columns)-1)]+[i]\n",
            "<ipython-input-18-3eb2aa88d409>:10: SettingWithCopyWarning: \n",
            "A value is trying to be set on a copy of a slice from a DataFrame\n",
            "\n",
            "See the caveats in the documentation: https://pandas.pydata.org/pandas-docs/stable/user_guide/indexing.html#returning-a-view-versus-a-copy\n",
            "  df.loc[next_date] = [np.nan for _ in range(len(df.columns)-1)]+[i]\n",
            "<ipython-input-18-3eb2aa88d409>:10: SettingWithCopyWarning: \n",
            "A value is trying to be set on a copy of a slice from a DataFrame\n",
            "\n",
            "See the caveats in the documentation: https://pandas.pydata.org/pandas-docs/stable/user_guide/indexing.html#returning-a-view-versus-a-copy\n",
            "  df.loc[next_date] = [np.nan for _ in range(len(df.columns)-1)]+[i]\n",
            "<ipython-input-18-3eb2aa88d409>:10: SettingWithCopyWarning: \n",
            "A value is trying to be set on a copy of a slice from a DataFrame\n",
            "\n",
            "See the caveats in the documentation: https://pandas.pydata.org/pandas-docs/stable/user_guide/indexing.html#returning-a-view-versus-a-copy\n",
            "  df.loc[next_date] = [np.nan for _ in range(len(df.columns)-1)]+[i]\n",
            "<ipython-input-18-3eb2aa88d409>:10: SettingWithCopyWarning: \n",
            "A value is trying to be set on a copy of a slice from a DataFrame\n",
            "\n",
            "See the caveats in the documentation: https://pandas.pydata.org/pandas-docs/stable/user_guide/indexing.html#returning-a-view-versus-a-copy\n",
            "  df.loc[next_date] = [np.nan for _ in range(len(df.columns)-1)]+[i]\n",
            "<ipython-input-18-3eb2aa88d409>:10: SettingWithCopyWarning: \n",
            "A value is trying to be set on a copy of a slice from a DataFrame\n",
            "\n",
            "See the caveats in the documentation: https://pandas.pydata.org/pandas-docs/stable/user_guide/indexing.html#returning-a-view-versus-a-copy\n",
            "  df.loc[next_date] = [np.nan for _ in range(len(df.columns)-1)]+[i]\n",
            "<ipython-input-18-3eb2aa88d409>:10: SettingWithCopyWarning: \n",
            "A value is trying to be set on a copy of a slice from a DataFrame\n",
            "\n",
            "See the caveats in the documentation: https://pandas.pydata.org/pandas-docs/stable/user_guide/indexing.html#returning-a-view-versus-a-copy\n",
            "  df.loc[next_date] = [np.nan for _ in range(len(df.columns)-1)]+[i]\n",
            "<ipython-input-18-3eb2aa88d409>:10: SettingWithCopyWarning: \n",
            "A value is trying to be set on a copy of a slice from a DataFrame\n",
            "\n",
            "See the caveats in the documentation: https://pandas.pydata.org/pandas-docs/stable/user_guide/indexing.html#returning-a-view-versus-a-copy\n",
            "  df.loc[next_date] = [np.nan for _ in range(len(df.columns)-1)]+[i]\n",
            "<ipython-input-18-3eb2aa88d409>:10: SettingWithCopyWarning: \n",
            "A value is trying to be set on a copy of a slice from a DataFrame\n",
            "\n",
            "See the caveats in the documentation: https://pandas.pydata.org/pandas-docs/stable/user_guide/indexing.html#returning-a-view-versus-a-copy\n",
            "  df.loc[next_date] = [np.nan for _ in range(len(df.columns)-1)]+[i]\n",
            "<ipython-input-18-3eb2aa88d409>:10: SettingWithCopyWarning: \n",
            "A value is trying to be set on a copy of a slice from a DataFrame\n",
            "\n",
            "See the caveats in the documentation: https://pandas.pydata.org/pandas-docs/stable/user_guide/indexing.html#returning-a-view-versus-a-copy\n",
            "  df.loc[next_date] = [np.nan for _ in range(len(df.columns)-1)]+[i]\n",
            "<ipython-input-18-3eb2aa88d409>:10: SettingWithCopyWarning: \n",
            "A value is trying to be set on a copy of a slice from a DataFrame\n",
            "\n",
            "See the caveats in the documentation: https://pandas.pydata.org/pandas-docs/stable/user_guide/indexing.html#returning-a-view-versus-a-copy\n",
            "  df.loc[next_date] = [np.nan for _ in range(len(df.columns)-1)]+[i]\n",
            "<ipython-input-18-3eb2aa88d409>:10: SettingWithCopyWarning: \n",
            "A value is trying to be set on a copy of a slice from a DataFrame\n",
            "\n",
            "See the caveats in the documentation: https://pandas.pydata.org/pandas-docs/stable/user_guide/indexing.html#returning-a-view-versus-a-copy\n",
            "  df.loc[next_date] = [np.nan for _ in range(len(df.columns)-1)]+[i]\n",
            "<ipython-input-18-3eb2aa88d409>:10: SettingWithCopyWarning: \n",
            "A value is trying to be set on a copy of a slice from a DataFrame\n",
            "\n",
            "See the caveats in the documentation: https://pandas.pydata.org/pandas-docs/stable/user_guide/indexing.html#returning-a-view-versus-a-copy\n",
            "  df.loc[next_date] = [np.nan for _ in range(len(df.columns)-1)]+[i]\n",
            "<ipython-input-18-3eb2aa88d409>:10: SettingWithCopyWarning: \n",
            "A value is trying to be set on a copy of a slice from a DataFrame\n",
            "\n",
            "See the caveats in the documentation: https://pandas.pydata.org/pandas-docs/stable/user_guide/indexing.html#returning-a-view-versus-a-copy\n",
            "  df.loc[next_date] = [np.nan for _ in range(len(df.columns)-1)]+[i]\n",
            "<ipython-input-18-3eb2aa88d409>:10: SettingWithCopyWarning: \n",
            "A value is trying to be set on a copy of a slice from a DataFrame\n",
            "\n",
            "See the caveats in the documentation: https://pandas.pydata.org/pandas-docs/stable/user_guide/indexing.html#returning-a-view-versus-a-copy\n",
            "  df.loc[next_date] = [np.nan for _ in range(len(df.columns)-1)]+[i]\n",
            "<ipython-input-18-3eb2aa88d409>:10: SettingWithCopyWarning: \n",
            "A value is trying to be set on a copy of a slice from a DataFrame\n",
            "\n",
            "See the caveats in the documentation: https://pandas.pydata.org/pandas-docs/stable/user_guide/indexing.html#returning-a-view-versus-a-copy\n",
            "  df.loc[next_date] = [np.nan for _ in range(len(df.columns)-1)]+[i]\n",
            "<ipython-input-18-3eb2aa88d409>:10: SettingWithCopyWarning: \n",
            "A value is trying to be set on a copy of a slice from a DataFrame\n",
            "\n",
            "See the caveats in the documentation: https://pandas.pydata.org/pandas-docs/stable/user_guide/indexing.html#returning-a-view-versus-a-copy\n",
            "  df.loc[next_date] = [np.nan for _ in range(len(df.columns)-1)]+[i]\n",
            "<ipython-input-18-3eb2aa88d409>:10: SettingWithCopyWarning: \n",
            "A value is trying to be set on a copy of a slice from a DataFrame\n",
            "\n",
            "See the caveats in the documentation: https://pandas.pydata.org/pandas-docs/stable/user_guide/indexing.html#returning-a-view-versus-a-copy\n",
            "  df.loc[next_date] = [np.nan for _ in range(len(df.columns)-1)]+[i]\n",
            "<ipython-input-18-3eb2aa88d409>:10: SettingWithCopyWarning: \n",
            "A value is trying to be set on a copy of a slice from a DataFrame\n",
            "\n",
            "See the caveats in the documentation: https://pandas.pydata.org/pandas-docs/stable/user_guide/indexing.html#returning-a-view-versus-a-copy\n",
            "  df.loc[next_date] = [np.nan for _ in range(len(df.columns)-1)]+[i]\n",
            "<ipython-input-18-3eb2aa88d409>:10: SettingWithCopyWarning: \n",
            "A value is trying to be set on a copy of a slice from a DataFrame\n",
            "\n",
            "See the caveats in the documentation: https://pandas.pydata.org/pandas-docs/stable/user_guide/indexing.html#returning-a-view-versus-a-copy\n",
            "  df.loc[next_date] = [np.nan for _ in range(len(df.columns)-1)]+[i]\n",
            "<ipython-input-18-3eb2aa88d409>:10: SettingWithCopyWarning: \n",
            "A value is trying to be set on a copy of a slice from a DataFrame\n",
            "\n",
            "See the caveats in the documentation: https://pandas.pydata.org/pandas-docs/stable/user_guide/indexing.html#returning-a-view-versus-a-copy\n",
            "  df.loc[next_date] = [np.nan for _ in range(len(df.columns)-1)]+[i]\n",
            "<ipython-input-18-3eb2aa88d409>:10: SettingWithCopyWarning: \n",
            "A value is trying to be set on a copy of a slice from a DataFrame\n",
            "\n",
            "See the caveats in the documentation: https://pandas.pydata.org/pandas-docs/stable/user_guide/indexing.html#returning-a-view-versus-a-copy\n",
            "  df.loc[next_date] = [np.nan for _ in range(len(df.columns)-1)]+[i]\n",
            "<ipython-input-18-3eb2aa88d409>:10: SettingWithCopyWarning: \n",
            "A value is trying to be set on a copy of a slice from a DataFrame\n",
            "\n",
            "See the caveats in the documentation: https://pandas.pydata.org/pandas-docs/stable/user_guide/indexing.html#returning-a-view-versus-a-copy\n",
            "  df.loc[next_date] = [np.nan for _ in range(len(df.columns)-1)]+[i]\n",
            "<ipython-input-18-3eb2aa88d409>:10: SettingWithCopyWarning: \n",
            "A value is trying to be set on a copy of a slice from a DataFrame\n",
            "\n",
            "See the caveats in the documentation: https://pandas.pydata.org/pandas-docs/stable/user_guide/indexing.html#returning-a-view-versus-a-copy\n",
            "  df.loc[next_date] = [np.nan for _ in range(len(df.columns)-1)]+[i]\n",
            "<ipython-input-18-3eb2aa88d409>:10: SettingWithCopyWarning: \n",
            "A value is trying to be set on a copy of a slice from a DataFrame\n",
            "\n",
            "See the caveats in the documentation: https://pandas.pydata.org/pandas-docs/stable/user_guide/indexing.html#returning-a-view-versus-a-copy\n",
            "  df.loc[next_date] = [np.nan for _ in range(len(df.columns)-1)]+[i]\n",
            "<ipython-input-18-3eb2aa88d409>:10: SettingWithCopyWarning: \n",
            "A value is trying to be set on a copy of a slice from a DataFrame\n",
            "\n",
            "See the caveats in the documentation: https://pandas.pydata.org/pandas-docs/stable/user_guide/indexing.html#returning-a-view-versus-a-copy\n",
            "  df.loc[next_date] = [np.nan for _ in range(len(df.columns)-1)]+[i]\n",
            "<ipython-input-18-3eb2aa88d409>:10: SettingWithCopyWarning: \n",
            "A value is trying to be set on a copy of a slice from a DataFrame\n",
            "\n",
            "See the caveats in the documentation: https://pandas.pydata.org/pandas-docs/stable/user_guide/indexing.html#returning-a-view-versus-a-copy\n",
            "  df.loc[next_date] = [np.nan for _ in range(len(df.columns)-1)]+[i]\n",
            "<ipython-input-18-3eb2aa88d409>:10: SettingWithCopyWarning: \n",
            "A value is trying to be set on a copy of a slice from a DataFrame\n",
            "\n",
            "See the caveats in the documentation: https://pandas.pydata.org/pandas-docs/stable/user_guide/indexing.html#returning-a-view-versus-a-copy\n",
            "  df.loc[next_date] = [np.nan for _ in range(len(df.columns)-1)]+[i]\n",
            "<ipython-input-18-3eb2aa88d409>:10: SettingWithCopyWarning: \n",
            "A value is trying to be set on a copy of a slice from a DataFrame\n",
            "\n",
            "See the caveats in the documentation: https://pandas.pydata.org/pandas-docs/stable/user_guide/indexing.html#returning-a-view-versus-a-copy\n",
            "  df.loc[next_date] = [np.nan for _ in range(len(df.columns)-1)]+[i]\n",
            "<ipython-input-18-3eb2aa88d409>:10: SettingWithCopyWarning: \n",
            "A value is trying to be set on a copy of a slice from a DataFrame\n",
            "\n",
            "See the caveats in the documentation: https://pandas.pydata.org/pandas-docs/stable/user_guide/indexing.html#returning-a-view-versus-a-copy\n",
            "  df.loc[next_date] = [np.nan for _ in range(len(df.columns)-1)]+[i]\n",
            "<ipython-input-18-3eb2aa88d409>:10: SettingWithCopyWarning: \n",
            "A value is trying to be set on a copy of a slice from a DataFrame\n",
            "\n",
            "See the caveats in the documentation: https://pandas.pydata.org/pandas-docs/stable/user_guide/indexing.html#returning-a-view-versus-a-copy\n",
            "  df.loc[next_date] = [np.nan for _ in range(len(df.columns)-1)]+[i]\n",
            "<ipython-input-18-3eb2aa88d409>:10: SettingWithCopyWarning: \n",
            "A value is trying to be set on a copy of a slice from a DataFrame\n",
            "\n",
            "See the caveats in the documentation: https://pandas.pydata.org/pandas-docs/stable/user_guide/indexing.html#returning-a-view-versus-a-copy\n",
            "  df.loc[next_date] = [np.nan for _ in range(len(df.columns)-1)]+[i]\n",
            "<ipython-input-18-3eb2aa88d409>:10: SettingWithCopyWarning: \n",
            "A value is trying to be set on a copy of a slice from a DataFrame\n",
            "\n",
            "See the caveats in the documentation: https://pandas.pydata.org/pandas-docs/stable/user_guide/indexing.html#returning-a-view-versus-a-copy\n",
            "  df.loc[next_date] = [np.nan for _ in range(len(df.columns)-1)]+[i]\n",
            "<ipython-input-18-3eb2aa88d409>:10: SettingWithCopyWarning: \n",
            "A value is trying to be set on a copy of a slice from a DataFrame\n",
            "\n",
            "See the caveats in the documentation: https://pandas.pydata.org/pandas-docs/stable/user_guide/indexing.html#returning-a-view-versus-a-copy\n",
            "  df.loc[next_date] = [np.nan for _ in range(len(df.columns)-1)]+[i]\n",
            "<ipython-input-18-3eb2aa88d409>:10: SettingWithCopyWarning: \n",
            "A value is trying to be set on a copy of a slice from a DataFrame\n",
            "\n",
            "See the caveats in the documentation: https://pandas.pydata.org/pandas-docs/stable/user_guide/indexing.html#returning-a-view-versus-a-copy\n",
            "  df.loc[next_date] = [np.nan for _ in range(len(df.columns)-1)]+[i]\n",
            "<ipython-input-18-3eb2aa88d409>:10: SettingWithCopyWarning: \n",
            "A value is trying to be set on a copy of a slice from a DataFrame\n",
            "\n",
            "See the caveats in the documentation: https://pandas.pydata.org/pandas-docs/stable/user_guide/indexing.html#returning-a-view-versus-a-copy\n",
            "  df.loc[next_date] = [np.nan for _ in range(len(df.columns)-1)]+[i]\n",
            "<ipython-input-18-3eb2aa88d409>:10: SettingWithCopyWarning: \n",
            "A value is trying to be set on a copy of a slice from a DataFrame\n",
            "\n",
            "See the caveats in the documentation: https://pandas.pydata.org/pandas-docs/stable/user_guide/indexing.html#returning-a-view-versus-a-copy\n",
            "  df.loc[next_date] = [np.nan for _ in range(len(df.columns)-1)]+[i]\n",
            "<ipython-input-18-3eb2aa88d409>:10: SettingWithCopyWarning: \n",
            "A value is trying to be set on a copy of a slice from a DataFrame\n",
            "\n",
            "See the caveats in the documentation: https://pandas.pydata.org/pandas-docs/stable/user_guide/indexing.html#returning-a-view-versus-a-copy\n",
            "  df.loc[next_date] = [np.nan for _ in range(len(df.columns)-1)]+[i]\n",
            "<ipython-input-18-3eb2aa88d409>:10: SettingWithCopyWarning: \n",
            "A value is trying to be set on a copy of a slice from a DataFrame\n",
            "\n",
            "See the caveats in the documentation: https://pandas.pydata.org/pandas-docs/stable/user_guide/indexing.html#returning-a-view-versus-a-copy\n",
            "  df.loc[next_date] = [np.nan for _ in range(len(df.columns)-1)]+[i]\n",
            "<ipython-input-18-3eb2aa88d409>:10: SettingWithCopyWarning: \n",
            "A value is trying to be set on a copy of a slice from a DataFrame\n",
            "\n",
            "See the caveats in the documentation: https://pandas.pydata.org/pandas-docs/stable/user_guide/indexing.html#returning-a-view-versus-a-copy\n",
            "  df.loc[next_date] = [np.nan for _ in range(len(df.columns)-1)]+[i]\n",
            "<ipython-input-18-3eb2aa88d409>:10: SettingWithCopyWarning: \n",
            "A value is trying to be set on a copy of a slice from a DataFrame\n",
            "\n",
            "See the caveats in the documentation: https://pandas.pydata.org/pandas-docs/stable/user_guide/indexing.html#returning-a-view-versus-a-copy\n",
            "  df.loc[next_date] = [np.nan for _ in range(len(df.columns)-1)]+[i]\n",
            "<ipython-input-18-3eb2aa88d409>:10: SettingWithCopyWarning: \n",
            "A value is trying to be set on a copy of a slice from a DataFrame\n",
            "\n",
            "See the caveats in the documentation: https://pandas.pydata.org/pandas-docs/stable/user_guide/indexing.html#returning-a-view-versus-a-copy\n",
            "  df.loc[next_date] = [np.nan for _ in range(len(df.columns)-1)]+[i]\n",
            "<ipython-input-18-3eb2aa88d409>:10: SettingWithCopyWarning: \n",
            "A value is trying to be set on a copy of a slice from a DataFrame\n",
            "\n",
            "See the caveats in the documentation: https://pandas.pydata.org/pandas-docs/stable/user_guide/indexing.html#returning-a-view-versus-a-copy\n",
            "  df.loc[next_date] = [np.nan for _ in range(len(df.columns)-1)]+[i]\n",
            "<ipython-input-18-3eb2aa88d409>:10: SettingWithCopyWarning: \n",
            "A value is trying to be set on a copy of a slice from a DataFrame\n",
            "\n",
            "See the caveats in the documentation: https://pandas.pydata.org/pandas-docs/stable/user_guide/indexing.html#returning-a-view-versus-a-copy\n",
            "  df.loc[next_date] = [np.nan for _ in range(len(df.columns)-1)]+[i]\n",
            "<ipython-input-18-3eb2aa88d409>:10: SettingWithCopyWarning: \n",
            "A value is trying to be set on a copy of a slice from a DataFrame\n",
            "\n",
            "See the caveats in the documentation: https://pandas.pydata.org/pandas-docs/stable/user_guide/indexing.html#returning-a-view-versus-a-copy\n",
            "  df.loc[next_date] = [np.nan for _ in range(len(df.columns)-1)]+[i]\n",
            "<ipython-input-18-3eb2aa88d409>:10: SettingWithCopyWarning: \n",
            "A value is trying to be set on a copy of a slice from a DataFrame\n",
            "\n",
            "See the caveats in the documentation: https://pandas.pydata.org/pandas-docs/stable/user_guide/indexing.html#returning-a-view-versus-a-copy\n",
            "  df.loc[next_date] = [np.nan for _ in range(len(df.columns)-1)]+[i]\n",
            "<ipython-input-18-3eb2aa88d409>:10: SettingWithCopyWarning: \n",
            "A value is trying to be set on a copy of a slice from a DataFrame\n",
            "\n",
            "See the caveats in the documentation: https://pandas.pydata.org/pandas-docs/stable/user_guide/indexing.html#returning-a-view-versus-a-copy\n",
            "  df.loc[next_date] = [np.nan for _ in range(len(df.columns)-1)]+[i]\n",
            "<ipython-input-18-3eb2aa88d409>:10: SettingWithCopyWarning: \n",
            "A value is trying to be set on a copy of a slice from a DataFrame\n",
            "\n",
            "See the caveats in the documentation: https://pandas.pydata.org/pandas-docs/stable/user_guide/indexing.html#returning-a-view-versus-a-copy\n",
            "  df.loc[next_date] = [np.nan for _ in range(len(df.columns)-1)]+[i]\n",
            "<ipython-input-18-3eb2aa88d409>:10: SettingWithCopyWarning: \n",
            "A value is trying to be set on a copy of a slice from a DataFrame\n",
            "\n",
            "See the caveats in the documentation: https://pandas.pydata.org/pandas-docs/stable/user_guide/indexing.html#returning-a-view-versus-a-copy\n",
            "  df.loc[next_date] = [np.nan for _ in range(len(df.columns)-1)]+[i]\n",
            "<ipython-input-18-3eb2aa88d409>:10: SettingWithCopyWarning: \n",
            "A value is trying to be set on a copy of a slice from a DataFrame\n",
            "\n",
            "See the caveats in the documentation: https://pandas.pydata.org/pandas-docs/stable/user_guide/indexing.html#returning-a-view-versus-a-copy\n",
            "  df.loc[next_date] = [np.nan for _ in range(len(df.columns)-1)]+[i]\n",
            "<ipython-input-18-3eb2aa88d409>:10: SettingWithCopyWarning: \n",
            "A value is trying to be set on a copy of a slice from a DataFrame\n",
            "\n",
            "See the caveats in the documentation: https://pandas.pydata.org/pandas-docs/stable/user_guide/indexing.html#returning-a-view-versus-a-copy\n",
            "  df.loc[next_date] = [np.nan for _ in range(len(df.columns)-1)]+[i]\n",
            "<ipython-input-18-3eb2aa88d409>:10: SettingWithCopyWarning: \n",
            "A value is trying to be set on a copy of a slice from a DataFrame\n",
            "\n",
            "See the caveats in the documentation: https://pandas.pydata.org/pandas-docs/stable/user_guide/indexing.html#returning-a-view-versus-a-copy\n",
            "  df.loc[next_date] = [np.nan for _ in range(len(df.columns)-1)]+[i]\n",
            "<ipython-input-18-3eb2aa88d409>:10: SettingWithCopyWarning: \n",
            "A value is trying to be set on a copy of a slice from a DataFrame\n",
            "\n",
            "See the caveats in the documentation: https://pandas.pydata.org/pandas-docs/stable/user_guide/indexing.html#returning-a-view-versus-a-copy\n",
            "  df.loc[next_date] = [np.nan for _ in range(len(df.columns)-1)]+[i]\n",
            "<ipython-input-18-3eb2aa88d409>:10: SettingWithCopyWarning: \n",
            "A value is trying to be set on a copy of a slice from a DataFrame\n",
            "\n",
            "See the caveats in the documentation: https://pandas.pydata.org/pandas-docs/stable/user_guide/indexing.html#returning-a-view-versus-a-copy\n",
            "  df.loc[next_date] = [np.nan for _ in range(len(df.columns)-1)]+[i]\n",
            "<ipython-input-18-3eb2aa88d409>:10: SettingWithCopyWarning: \n",
            "A value is trying to be set on a copy of a slice from a DataFrame\n",
            "\n",
            "See the caveats in the documentation: https://pandas.pydata.org/pandas-docs/stable/user_guide/indexing.html#returning-a-view-versus-a-copy\n",
            "  df.loc[next_date] = [np.nan for _ in range(len(df.columns)-1)]+[i]\n",
            "<ipython-input-18-3eb2aa88d409>:10: SettingWithCopyWarning: \n",
            "A value is trying to be set on a copy of a slice from a DataFrame\n",
            "\n",
            "See the caveats in the documentation: https://pandas.pydata.org/pandas-docs/stable/user_guide/indexing.html#returning-a-view-versus-a-copy\n",
            "  df.loc[next_date] = [np.nan for _ in range(len(df.columns)-1)]+[i]\n",
            "<ipython-input-18-3eb2aa88d409>:10: SettingWithCopyWarning: \n",
            "A value is trying to be set on a copy of a slice from a DataFrame\n",
            "\n",
            "See the caveats in the documentation: https://pandas.pydata.org/pandas-docs/stable/user_guide/indexing.html#returning-a-view-versus-a-copy\n",
            "  df.loc[next_date] = [np.nan for _ in range(len(df.columns)-1)]+[i]\n",
            "<ipython-input-18-3eb2aa88d409>:10: SettingWithCopyWarning: \n",
            "A value is trying to be set on a copy of a slice from a DataFrame\n",
            "\n",
            "See the caveats in the documentation: https://pandas.pydata.org/pandas-docs/stable/user_guide/indexing.html#returning-a-view-versus-a-copy\n",
            "  df.loc[next_date] = [np.nan for _ in range(len(df.columns)-1)]+[i]\n",
            "<ipython-input-18-3eb2aa88d409>:10: SettingWithCopyWarning: \n",
            "A value is trying to be set on a copy of a slice from a DataFrame\n",
            "\n",
            "See the caveats in the documentation: https://pandas.pydata.org/pandas-docs/stable/user_guide/indexing.html#returning-a-view-versus-a-copy\n",
            "  df.loc[next_date] = [np.nan for _ in range(len(df.columns)-1)]+[i]\n",
            "<ipython-input-18-3eb2aa88d409>:10: SettingWithCopyWarning: \n",
            "A value is trying to be set on a copy of a slice from a DataFrame\n",
            "\n",
            "See the caveats in the documentation: https://pandas.pydata.org/pandas-docs/stable/user_guide/indexing.html#returning-a-view-versus-a-copy\n",
            "  df.loc[next_date] = [np.nan for _ in range(len(df.columns)-1)]+[i]\n",
            "<ipython-input-18-3eb2aa88d409>:10: SettingWithCopyWarning: \n",
            "A value is trying to be set on a copy of a slice from a DataFrame\n",
            "\n",
            "See the caveats in the documentation: https://pandas.pydata.org/pandas-docs/stable/user_guide/indexing.html#returning-a-view-versus-a-copy\n",
            "  df.loc[next_date] = [np.nan for _ in range(len(df.columns)-1)]+[i]\n",
            "<ipython-input-18-3eb2aa88d409>:10: SettingWithCopyWarning: \n",
            "A value is trying to be set on a copy of a slice from a DataFrame\n",
            "\n",
            "See the caveats in the documentation: https://pandas.pydata.org/pandas-docs/stable/user_guide/indexing.html#returning-a-view-versus-a-copy\n",
            "  df.loc[next_date] = [np.nan for _ in range(len(df.columns)-1)]+[i]\n",
            "<ipython-input-18-3eb2aa88d409>:10: SettingWithCopyWarning: \n",
            "A value is trying to be set on a copy of a slice from a DataFrame\n",
            "\n",
            "See the caveats in the documentation: https://pandas.pydata.org/pandas-docs/stable/user_guide/indexing.html#returning-a-view-versus-a-copy\n",
            "  df.loc[next_date] = [np.nan for _ in range(len(df.columns)-1)]+[i]\n",
            "<ipython-input-18-3eb2aa88d409>:10: SettingWithCopyWarning: \n",
            "A value is trying to be set on a copy of a slice from a DataFrame\n",
            "\n",
            "See the caveats in the documentation: https://pandas.pydata.org/pandas-docs/stable/user_guide/indexing.html#returning-a-view-versus-a-copy\n",
            "  df.loc[next_date] = [np.nan for _ in range(len(df.columns)-1)]+[i]\n",
            "<ipython-input-18-3eb2aa88d409>:10: SettingWithCopyWarning: \n",
            "A value is trying to be set on a copy of a slice from a DataFrame\n",
            "\n",
            "See the caveats in the documentation: https://pandas.pydata.org/pandas-docs/stable/user_guide/indexing.html#returning-a-view-versus-a-copy\n",
            "  df.loc[next_date] = [np.nan for _ in range(len(df.columns)-1)]+[i]\n",
            "<ipython-input-18-3eb2aa88d409>:10: SettingWithCopyWarning: \n",
            "A value is trying to be set on a copy of a slice from a DataFrame\n",
            "\n",
            "See the caveats in the documentation: https://pandas.pydata.org/pandas-docs/stable/user_guide/indexing.html#returning-a-view-versus-a-copy\n",
            "  df.loc[next_date] = [np.nan for _ in range(len(df.columns)-1)]+[i]\n",
            "<ipython-input-18-3eb2aa88d409>:10: SettingWithCopyWarning: \n",
            "A value is trying to be set on a copy of a slice from a DataFrame\n",
            "\n",
            "See the caveats in the documentation: https://pandas.pydata.org/pandas-docs/stable/user_guide/indexing.html#returning-a-view-versus-a-copy\n",
            "  df.loc[next_date] = [np.nan for _ in range(len(df.columns)-1)]+[i]\n",
            "<ipython-input-18-3eb2aa88d409>:10: SettingWithCopyWarning: \n",
            "A value is trying to be set on a copy of a slice from a DataFrame\n",
            "\n",
            "See the caveats in the documentation: https://pandas.pydata.org/pandas-docs/stable/user_guide/indexing.html#returning-a-view-versus-a-copy\n",
            "  df.loc[next_date] = [np.nan for _ in range(len(df.columns)-1)]+[i]\n",
            "<ipython-input-18-3eb2aa88d409>:10: SettingWithCopyWarning: \n",
            "A value is trying to be set on a copy of a slice from a DataFrame\n",
            "\n",
            "See the caveats in the documentation: https://pandas.pydata.org/pandas-docs/stable/user_guide/indexing.html#returning-a-view-versus-a-copy\n",
            "  df.loc[next_date] = [np.nan for _ in range(len(df.columns)-1)]+[i]\n",
            "<ipython-input-18-3eb2aa88d409>:10: SettingWithCopyWarning: \n",
            "A value is trying to be set on a copy of a slice from a DataFrame\n",
            "\n",
            "See the caveats in the documentation: https://pandas.pydata.org/pandas-docs/stable/user_guide/indexing.html#returning-a-view-versus-a-copy\n",
            "  df.loc[next_date] = [np.nan for _ in range(len(df.columns)-1)]+[i]\n",
            "<ipython-input-18-3eb2aa88d409>:10: SettingWithCopyWarning: \n",
            "A value is trying to be set on a copy of a slice from a DataFrame\n",
            "\n",
            "See the caveats in the documentation: https://pandas.pydata.org/pandas-docs/stable/user_guide/indexing.html#returning-a-view-versus-a-copy\n",
            "  df.loc[next_date] = [np.nan for _ in range(len(df.columns)-1)]+[i]\n"
          ]
        }
      ]
    },
    {
      "cell_type": "markdown",
      "source": [
        "- Pada diagram plot dibwah ini garis naik turun berwarna orange merupakan hasil prediksi atau peramalan untuk beberapa bulan kedepan.\n",
        "- In the plot diagram below, the orange rising and falling lines are the results of predictions or forecasting for the next few months. We can see that the forecast has an upward trend or up trend"
      ],
      "metadata": {
        "id": "uQMF5vy99ZPb"
      }
    },
    {
      "cell_type": "code",
      "source": [
        "plt.figure(figsize=(18, 8))\n",
        "df['Adj Close'].plot()\n",
        "df['Forecast'].plot()\n",
        "plt.legend(loc=4)\n",
        "plt.xlabel('Date')\n",
        "plt.ylabel('Price')\n",
        "plt.show()"
      ],
      "metadata": {
        "colab": {
          "base_uri": "https://localhost:8080/",
          "height": 508
        },
        "id": "iqnHOgkvWiQa",
        "outputId": "5b46863d-5e95-4ede-e0c9-1de6353951ef"
      },
      "execution_count": null,
      "outputs": [
        {
          "output_type": "display_data",
          "data": {
            "text/plain": [
              "<Figure size 1800x800 with 1 Axes>"
            ],
            "image/png": "[encoded data removed]"
          },
          "metadata": {}
        }
      ]
    }
  ],
  "metadata": {
    "accelerator": "TPU",
    "colab": {
      "provenance": [],
      "machine_shape": "hm",
      "gpuClass": "premium"
    },
    "kernelspec": {
      "display_name": "Python 3",
      "name": "python3"
    },
    "gpuClass": "premium"
  },
  "nbformat": 4,
  "nbformat_minor": 0
}